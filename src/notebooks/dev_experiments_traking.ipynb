{
 "cells": [
  {
   "cell_type": "code",
   "execution_count": 1,
   "metadata": {},
   "outputs": [
    {
     "name": "stderr",
     "output_type": "stream",
     "text": [
      "2023-03-29 19:23:17.051228: I tensorflow/core/platform/cpu_feature_guard.cc:193] This TensorFlow binary is optimized with oneAPI Deep Neural Network Library (oneDNN) to use the following CPU instructions in performance-critical operations:  AVX2 FMA\n",
      "To enable them in other operations, rebuild TensorFlow with the appropriate compiler flags.\n",
      "2023-03-29 19:23:18.994410: I tensorflow/c/logging.cc:34] Successfully opened dynamic library libdirectml.d6f03b303ac3c4f2eeb8ca631688c9757b361310.so\n",
      "2023-03-29 19:23:18.994587: I tensorflow/c/logging.cc:34] Successfully opened dynamic library libdxcore.so\n",
      "2023-03-29 19:23:19.003806: I tensorflow/c/logging.cc:34] Successfully opened dynamic library libd3d12.so\n",
      "2023-03-29 19:23:21.693095: I tensorflow/c/logging.cc:34] DirectML device enumeration: found 1 compatible adapters.\n"
     ]
    }
   ],
   "source": [
    "%%capture\n",
    "\n",
    "from sz_utils import data_handler\n",
    "import matplotlib.pyplot as plt\n",
    "import numpy as np\n",
    "import pandas as pd\n",
    "\n",
    "import getpass\n",
    "\n",
    "# check if gpu is available\n",
    "import tensorflow as tf\n",
    "tf.config.list_physical_devices('GPU')\n",
    "\n",
    "# collect the data\n",
    "preictal, interictal = data_handler.make_patient_windows(\"chb01\")\n",
    "\n",
    "# make the labels\n",
    "X = np.concatenate((preictal, interictal), axis=0)\n",
    "y = np.concatenate((np.ones((preictal.shape[0], 1)), np.zeros((interictal.shape[0], 1))), axis=0)\n",
    "\n",
    "# Shuffle the data\n",
    "shuffle_indices = np.random.permutation(np.arange(X.shape[0]))\n",
    "X = X[shuffle_indices]\n",
    "y = y[shuffle_indices]\n",
    "\n",
    "# Split the data into train and test\n",
    "train_size = int(X.shape[0] * 0.8)\n",
    "X_train = X[:train_size]\n",
    "y_train = y[:train_size]\n",
    "X_test = X[train_size:]\n",
    "y_test = y[train_size:]\n",
    "\n",
    "# Split test data into validation and test\n",
    "val_size = int(X_test.shape[0] * 0.5)\n",
    "X_val = X_test[:val_size]\n",
    "y_val = y_test[:val_size]\n",
    "X_test = X_test[val_size:]\n",
    "y_test = y_test[val_size:]"
   ]
  },
  {
   "cell_type": "code",
   "execution_count": 2,
   "metadata": {},
   "outputs": [],
   "source": [
    "\n",
    "import numpy as np\n",
    "import mlflow.tensorflow\n",
    "import tensorflow as tf\n",
    "import matplotlib.pyplot as plt\n",
    "import seaborn as sns\n",
    "import mlflow\n",
    "\n",
    "from tensorflow.keras.models import Sequential\n",
    "from tensorflow.keras.layers import Dense, Dropout, Flatten, Conv2D, MaxPooling2D,LSTM, Conv1D, Activation, MaxPooling1D\n",
    "from tensorflow.keras.optimizers import Adam\n",
    "from sklearn.metrics import confusion_matrix\n",
    "from tensorflow.keras.metrics import AUC\n",
    "import keras"
   ]
  },
  {
   "cell_type": "code",
   "execution_count": 3,
   "metadata": {},
   "outputs": [
    {
     "name": "stdout",
     "output_type": "stream",
     "text": [
      "X_train shape: (672, 1280, 22) y_train shape: (672, 1) X_val shape: (84, 1280, 22) y_val shape: (84, 1) X_test shape: (84, 1280, 22) y_test shape: (84, 1)\n"
     ]
    }
   ],
   "source": [
    "\n",
    "# shapes\n",
    "print(\"X_train shape:\", X_train.shape, \"y_train shape:\", y_train.shape, \"X_val shape:\", X_val.shape, \"y_val shape:\", y_val.shape, \"X_test shape:\", X_test.shape, \"y_test shape:\", y_test.shape)"
   ]
  },
  {
   "cell_type": "code",
   "execution_count": 4,
   "metadata": {},
   "outputs": [],
   "source": [
    "num_classes = 2 \n",
    "input_shape_dataset = (X_train.shape[1], X_train.shape[2])\n",
    "input_shape_dataset\n",
    "\n",
    "def create_model_cnn_basic_1_layer(\n",
    "    input_shape_dataset: tuple = input_shape_dataset,\n",
    "    num_classes: int = num_classes,\n",
    "    debug: bool = False,\n",
    "    filters: int = 256,\n",
    "    kernel_size: int = 3,\n",
    "    pool_size: int = 2,\n",
    "    dropout: float = 0.1,\n",
    "    dense_size: int = 64,\n",
    "    loss: str = \"binary_crossentropy\",\n",
    "    optimizer: str = \"adam\",\n",
    "    metrics: list = [\"accuracy\"],\n",
    "\n",
    ") -> tf.keras.Model:\n",
    "\n",
    "    \"\"\"This function creates a basic convolutional neural network model with 2 convolutional layers, 2 dense layers and a softmax layer\n",
    "\n",
    "    :param input_shape_dataset: shape of the input data\n",
    "    :type input_shape_dataset: tuple\n",
    "    :param num_classes: number of classes\n",
    "    :type num_classes: int\n",
    "    :return: return a model\n",
    "    :rtype: tf.keras.Model\n",
    "    \"\"\"\n",
    "\n",
    "    if debug:\n",
    "        print(\"------------model summary---------------\")\n",
    "        print(\"input_shape_dataset\", input_shape_dataset)\n",
    "        print(\"num_classes\", num_classes)\n",
    "\n",
    "    input_shape_dataset: tuple\n",
    "    \n",
    "    model = Sequential()\n",
    "\n",
    "    model.add(Conv1D(filters, kernel_size, input_shape=(input_shape_dataset)))\n",
    "    model.add(Activation('relu'))\n",
    "    model.add(MaxPooling1D(pool_size=pool_size))\n",
    "    model.add(Flatten())\n",
    "    model.add(Dense(dense_size))\n",
    "    model.add(Dropout(dropout))\n",
    "\n",
    "    model.add(Dense(1))\n",
    "    model.add(Activation('sigmoid'))\n",
    "\n",
    "    model.compile(loss=loss, optimizer=optimizer, metrics=metrics)\n",
    "\n",
    "    return model"
   ]
  },
  {
   "cell_type": "code",
   "execution_count": 31,
   "metadata": {},
   "outputs": [
    {
     "name": "stderr",
     "output_type": "stream",
     "text": [
      "2023-03-29 19:23:42.526319: I tensorflow/core/platform/cpu_feature_guard.cc:193] This TensorFlow binary is optimized with oneAPI Deep Neural Network Library (oneDNN) to use the following CPU instructions in performance-critical operations:  AVX2 FMA\n",
      "To enable them in other operations, rebuild TensorFlow with the appropriate compiler flags.\n",
      "2023-03-29 19:23:42.528822: I tensorflow/c/logging.cc:34] DirectML: creating device on adapter 0 (NVIDIA GeForce GTX 1650)\n",
      "2023-03-29 19:23:44.227891: I tensorflow/core/common_runtime/pluggable_device/pluggable_device_factory.cc:306] Could not identify NUMA node of platform GPU ID 0, defaulting to 0. Your kernel may not have been built with NUMA support.\n",
      "2023-03-29 19:23:44.228043: W tensorflow/core/common_runtime/pluggable_device/pluggable_device_bfc_allocator.cc:28] Overriding allow_growth setting because force_memory_growth was requested by the device.\n",
      "2023-03-29 19:23:44.228434: I tensorflow/core/common_runtime/pluggable_device/pluggable_device_factory.cc:272] Created TensorFlow device (/job:localhost/replica:0/task:0/device:GPU:0 with 10171 MB memory) -> physical PluggableDevice (device: 0, name: DML, pci bus id: <undefined>)\n"
     ]
    }
   ],
   "source": [
    "def create_model_mlp(\n",
    "    input_shape_dataset: tuple = input_shape_dataset,\n",
    "    num_classes: int = num_classes,\n",
    "    debug: bool = False,\n",
    "    hidden_units: int = 256,\n",
    "    dropout: float = 0.1,\n",
    "    loss: str = \"binary_crossentropy\",\n",
    "    optimizer: str = \"adam\",\n",
    "    metrics: list = [\"accuracy\"],\n",
    ") -> tf.keras.Model:\n",
    "\n",
    "    \"\"\"This function creates a basic Multi-layer Perceptron (MLP) model with 1 hidden layer\n",
    "\n",
    "    :param input_shape_dataset: shape of the input data\n",
    "    :type input_shape_dataset: tuple\n",
    "    :param num_classes: number of classes\n",
    "    :type num_classes: int\n",
    "    :return: return a model\n",
    "    :rtype: tf.keras.Model\n",
    "    \"\"\"\n",
    "\n",
    "    if debug:\n",
    "        print(\"------------model summary---------------\")\n",
    "        print(\"input_shape_dataset\", input_shape_dataset)\n",
    "        print(\"num_classes\", num_classes)\n",
    "\n",
    "    model = Sequential()\n",
    "\n",
    "    model.add(Flatten(input_shape=input_shape_dataset))\n",
    "    model.add(Dense(hidden_units, activation='relu'))\n",
    "    model.add(Dropout(dropout))\n",
    "    model.add(Dense(1, activation='sigmoid'))\n",
    "\n",
    "    model.compile(loss=loss, optimizer=optimizer, metrics=metrics)\n",
    "\n",
    "    return model\n"
   ]
  },
  {
   "cell_type": "code",
   "execution_count": 32,
   "metadata": {},
   "outputs": [
    {
     "data": {
      "text/plain": [
       "<keras.engine.sequential.Sequential at 0x16c236bf3d0>"
      ]
     },
     "execution_count": 32,
     "metadata": {},
     "output_type": "execute_result"
    }
   ],
   "source": [
    "create_model_mlp()"
   ]
  },
  {
   "attachments": {},
   "cell_type": "markdown",
   "metadata": {},
   "source": [
    "## test artifacts"
   ]
  },
  {
   "cell_type": "code",
   "execution_count": 10,
   "metadata": {},
   "outputs": [],
   "source": [
    "from dataclasses import dataclass\n",
    "import tensorflow as tf\n",
    "import mlflow\n",
    "from sklearn.model_selection import KFold\n",
    "import itertools\n",
    "from sklearn.metrics import confusion_matrix\n",
    "\n",
    "class Experiment:\n",
    "    experiment_name: str\n",
    "    model_name: str\n",
    "    model: tf.keras.Model\n",
    "    dataset: tuple\n",
    "    hyperparameters: dict\n",
    "    metrics: dict\n",
    "    n_splits: int\n",
    "    kf_metrics: dict\n",
    "    kf_models: list\n",
    "\n",
    "\n",
    "    def __init__(self, experiment_name, model_name, model, dataset, hyperparameters, metrics, n_splits):\n",
    "        self.experiment_name = experiment_name\n",
    "        self.model_name = model_name\n",
    "        self.model = model\n",
    "        self.dataset = dataset\n",
    "        self.hyperparameters = hyperparameters\n",
    "        self.metrics = metrics      \n",
    "        self.n_splits = n_splits\n",
    "        self.kf_metrics = {}\n",
    "        self.kf_models = []\n",
    "\n",
    "    def fit(self):\n",
    "        # Add K-fold cross-validation\n",
    "        kf = KFold(n_splits=self.n_splits)\n",
    "        fold = 0\n",
    "        for train_index, val_index in kf.split(self.dataset[0]):\n",
    "            fold += 1\n",
    "            print(f\"Training fold {fold}/{self.n_splits}\")\n",
    "            X_train_fold, y_train_fold = self.dataset[0][train_index], self.dataset[1][train_index]\n",
    "            X_val_fold, y_val_fold = self.dataset[0][val_index], self.dataset[1][val_index]\n",
    "            mlflow.tensorflow.autolog()\n",
    "            history = self.model.fit(X_train_fold, y_train_fold,\n",
    "                                     validation_data=(X_val_fold, y_val_fold),\n",
    "                                     epochs=self.hyperparameters[\"epochs\"],\n",
    "                                     callbacks=[tf.keras.callbacks.EarlyStopping(monitor='val_loss', patience=5, restore_best_weights=True)])\n",
    "            # Log metrics for this fold\n",
    "            self.log_metrics(history, fold=fold)\n",
    "            self.kf_models.append(self.model)\n",
    "        # TODO log artifacts\n",
    "        mlflow.log_artifact(self._log_graphs(history), artifact_path='Artifacts')\n",
    "        return history\n",
    "\n",
    "    def set_experiment(self):\n",
    "        mlflow.set_experiment(self.experiment_name)\n",
    "\n",
    "    def log_params(self):\n",
    "        mlflow.log_param(\"model_name\", self.model_name)\n",
    "        for key, value in self.hyperparameters.items():\n",
    "            mlflow.log_param(key, value)\n",
    "\n",
    "    def log_metrics(self, history, fold=None):\n",
    "        for metric_name, metric_values in history.history.items():\n",
    "            if metric_name not in self.kf_metrics:\n",
    "                self.kf_metrics[metric_name] = []\n",
    "            self.kf_metrics[metric_name].append(metric_values)\n",
    "            for epoch, value in enumerate(metric_values):\n",
    "                mlflow.log_metric(f\"Fold_{fold}_{metric_name}\", value, step=epoch)\n",
    "\n",
    "\n",
    "\n",
    "    def _log_graphs(self, history, y_true=None, y_pred=None, artifact_path='graphs.png'):\n",
    "        fig, ax = plt.subplots(nrows=1, ncols=3, figsize=(18, 4))\n",
    "\n",
    "        # Accuracy plot\n",
    "        ax[0].plot(history.history['accuracy'], label='train')\n",
    "        ax[0].plot(history.history['val_accuracy'], label='val')\n",
    "        ax[0].set_title('Accuracy')\n",
    "        ax[0].set_xlabel('Epoch')\n",
    "        ax[0].set_ylabel('Accuracy')\n",
    "        ax[0].legend()\n",
    "\n",
    "        # Loss plot\n",
    "        ax[1].plot(history.history['loss'], label='train')\n",
    "        ax[1].plot(history.history['val_loss'], label='val')\n",
    "        ax[1].set_title('Loss')\n",
    "        ax[1].set_xlabel('Epoch')\n",
    "        ax[1].set_ylabel('Loss')\n",
    "        ax[1].legend()\n",
    "\n",
    "        # Confusion matrix\n",
    "        if y_true is not None and y_pred is not None:\n",
    "            y_pred_classes = (y_pred > 0.5).astype(int)\n",
    "            cm = confusion_matrix(y_true, y_pred_classes)\n",
    "            classes = ['Class 0', 'Class 1'] # update with your actual class labels\n",
    "            cmap=plt.cm.Blues\n",
    "            ax[2].imshow(cm, interpolation='nearest', cmap=cmap)\n",
    "            ax[2].set_title('Confusion Matrix')\n",
    "            ax[2].set_xticks(range(len(classes)))\n",
    "            ax[2].set_yticks(range(len(classes)))\n",
    "            ax[2].set_xticklabels(classes, rotation=45)\n",
    "            ax[2].set_yticklabels(classes)\n",
    "            thresh = cm.max() / 2.\n",
    "            for i, j in itertools.product(range(cm.shape[0]), range(cm.shape[1])):\n",
    "                ax[2].text(j, i, format(cm[i, j], 'd'), horizontalalignment=\"center\", color=\"white\" if cm[i, j] > thresh else \"black\")\n",
    "            plt.tight_layout()\n",
    "\n",
    "        # Save the plots to a file\n",
    "        plt.tight_layout()\n",
    "        plt.savefig(artifact_path)\n",
    "        return artifact_path\n",
    "\n",
    "            \n",
    "    # def log_artifacts(self):\n",
    "    #     # Same as before\n",
    "    #     pass\n"
   ]
  },
  {
   "cell_type": "code",
   "execution_count": 22,
   "metadata": {},
   "outputs": [],
   "source": [
    "import mlflow\n",
    "\n",
    "def registrar_experiment(experiment: Experiment):\n",
    "    with mlflow.start_run(nested=True):\n",
    "        experiment.set_experiment()\n",
    "        experiment.log_params()\n",
    "        history = experiment.fit()\n",
    "        y_pred = experiment.model.predict(X_test)\n",
    "        y_true = y_test\n",
    "        experiment.log_metrics(history)\n",
    "        # print(graph_path)\n",
    "        y_pred_classes = (y_pred > 0.5).astype(int)\n",
    "        graph_path = experiment._log_graphs(history, y_true=y_true, y_pred=y_pred_classes)\n",
    "        # print(graph_path)\n",
    "        mlflow.log_artifact(graph_path, artifact_path='Artifacts')\n",
    "        # experiment.log_artifacts()\n"
   ]
  },
  {
   "cell_type": "code",
   "execution_count": 15,
   "metadata": {},
   "outputs": [
    {
     "name": "stderr",
     "output_type": "stream",
     "text": [
      "WARNING:root:Malformed experiment 'models'. Detailed error Yaml file 'C:\\Users\\crist\\Documents\\tesis\\SeizurePrediction\\src\\notebooks\\mlruns\\models\\meta.yaml' does not exist.\n",
      "Traceback (most recent call last):\n",
      "  File \"C:\\Users\\crist\\AppData\\Roaming\\Python\\Python39\\site-packages\\mlflow\\store\\tracking\\file_store.py\", line 279, in search_experiments\n",
      "    exp = self._get_experiment(exp_id, view_type)\n",
      "  File \"C:\\Users\\crist\\AppData\\Roaming\\Python\\Python39\\site-packages\\mlflow\\store\\tracking\\file_store.py\", line 372, in _get_experiment\n",
      "    meta = FileStore._read_yaml(experiment_dir, FileStore.META_DATA_FILE_NAME)\n",
      "  File \"C:\\Users\\crist\\AppData\\Roaming\\Python\\Python39\\site-packages\\mlflow\\store\\tracking\\file_store.py\", line 1082, in _read_yaml\n",
      "    return _read_helper(root, file_name, attempts_remaining=retries)\n",
      "  File \"C:\\Users\\crist\\AppData\\Roaming\\Python\\Python39\\site-packages\\mlflow\\store\\tracking\\file_store.py\", line 1075, in _read_helper\n",
      "    result = read_yaml(root, file_name)\n",
      "  File \"C:\\Users\\crist\\AppData\\Roaming\\Python\\Python39\\site-packages\\mlflow\\utils\\file_utils.py\", line 182, in read_yaml\n",
      "    raise MissingConfigException(\"Yaml file '%s' does not exist.\" % file_path)\n",
      "mlflow.exceptions.MissingConfigException: Yaml file 'C:\\Users\\crist\\Documents\\tesis\\SeizurePrediction\\src\\notebooks\\mlruns\\models\\meta.yaml' does not exist.\n"
     ]
    },
    {
     "name": "stdout",
     "output_type": "stream",
     "text": [
      "Training fold 1/5\n",
      "Epoch 1/10\n",
      " 4/17 [======>.......................] - ETA: 0s - loss: 3622.6479 - accuracy: 0.5000"
     ]
    },
    {
     "name": "stderr",
     "output_type": "stream",
     "text": [
      "WARNING:tensorflow:Callback method `on_train_batch_end` is slow compared to the batch time (batch time: 0.0224s vs `on_train_batch_end` time: 0.0383s). Check your callbacks.\n"
     ]
    },
    {
     "name": "stdout",
     "output_type": "stream",
     "text": [
      "17/17 [==============================] - 1s 41ms/step - loss: 1565.4106 - accuracy: 0.5345 - val_loss: 420.4722 - val_accuracy: 0.5556\n",
      "Epoch 2/10\n",
      "17/17 [==============================] - 0s 20ms/step - loss: 62.9979 - accuracy: 0.8883 - val_loss: 64.5065 - val_accuracy: 0.8593\n",
      "Epoch 3/10\n",
      "17/17 [==============================] - 0s 19ms/step - loss: 15.9867 - accuracy: 0.9609 - val_loss: 20.4989 - val_accuracy: 0.9111\n",
      "Epoch 4/10\n",
      "17/17 [==============================] - 0s 21ms/step - loss: 3.4858 - accuracy: 0.9907 - val_loss: 13.6217 - val_accuracy: 0.9407\n",
      "Epoch 5/10\n",
      "17/17 [==============================] - 0s 19ms/step - loss: 1.0718 - accuracy: 0.9963 - val_loss: 2.6008 - val_accuracy: 0.9852\n",
      "Epoch 6/10\n",
      "17/17 [==============================] - 0s 20ms/step - loss: 3.1139e-26 - accuracy: 1.0000 - val_loss: 1.5418 - val_accuracy: 0.9852\n",
      "Epoch 7/10\n",
      "17/17 [==============================] - 0s 20ms/step - loss: 0.0000e+00 - accuracy: 1.0000 - val_loss: 1.4314 - val_accuracy: 0.9926\n",
      "Epoch 8/10\n",
      "17/17 [==============================] - 0s 19ms/step - loss: 0.0000e+00 - accuracy: 1.0000 - val_loss: 1.4135 - val_accuracy: 0.9926\n",
      "Epoch 9/10\n",
      "17/17 [==============================] - 0s 20ms/step - loss: 0.0000e+00 - accuracy: 1.0000 - val_loss: 1.4103 - val_accuracy: 0.9926\n",
      "Epoch 10/10\n",
      "17/17 [==============================] - 0s 20ms/step - loss: 0.0000e+00 - accuracy: 1.0000 - val_loss: 1.4096 - val_accuracy: 0.9926\n",
      "1/1 [==============================] - 0s 66ms/step\n"
     ]
    },
    {
     "name": "stderr",
     "output_type": "stream",
     "text": [
      "2023/04/02 19:04:09 WARNING mlflow.utils.autologging_utils: MLflow autologging encountered a warning: \"C:\\Users\\crist\\AppData\\Roaming\\Python\\Python39\\site-packages\\mlflow\\tensorflow\\__init__.py:189: UserWarning: The pyfunc inference behavior of Keras models logged with signatures differs from the behavior of Keras models logged without signatures. Specifically, when a signature is present, passing a Pandas DataFrame as input to the pyfunc `predict()` API produces an `ndarray` (for single-output models) or a dictionary of `str -> ndarray`: (for multi-output models). In contrast, when a signature is *not* present, `predict()` produces a Pandas DataFrame output in response to a Pandas DataFrame input.\"\n",
      "WARNING:absl:Found untraced functions such as _jit_compiled_convolution_op while saving (showing 1 of 1). These functions will not be directly callable after loading.\n",
      "INFO:tensorflow:Assets written to: C:\\Users\\crist\\AppData\\Local\\Temp\\tmpxlr41vjy\\model\\data\\model\\assets\n"
     ]
    },
    {
     "name": "stdout",
     "output_type": "stream",
     "text": [
      "Training fold 2/5\n",
      "Epoch 1/10\n",
      " 5/17 [=======>......................] - ETA: 0s - loss: 0.0000e+00 - accuracy: 1.0000"
     ]
    },
    {
     "name": "stderr",
     "output_type": "stream",
     "text": [
      "WARNING:tensorflow:Callback method `on_train_batch_end` is slow compared to the batch time (batch time: 0.0074s vs `on_train_batch_end` time: 0.0160s). Check your callbacks.\n"
     ]
    },
    {
     "name": "stdout",
     "output_type": "stream",
     "text": [
      "17/17 [==============================] - 1s 29ms/step - loss: 0.5441 - accuracy: 0.9944 - val_loss: 0.0000e+00 - val_accuracy: 1.0000\n",
      "Epoch 2/10\n",
      "17/17 [==============================] - 0s 18ms/step - loss: 0.2911 - accuracy: 0.9981 - val_loss: 0.0000e+00 - val_accuracy: 1.0000\n",
      "Epoch 3/10\n",
      "17/17 [==============================] - 0s 20ms/step - loss: 9.2422e-13 - accuracy: 1.0000 - val_loss: 1.9171e-22 - val_accuracy: 1.0000\n",
      "Epoch 4/10\n",
      "17/17 [==============================] - 0s 23ms/step - loss: 0.0782 - accuracy: 0.9963 - val_loss: 0.0000e+00 - val_accuracy: 1.0000\n",
      "Epoch 5/10\n",
      "17/17 [==============================] - 0s 18ms/step - loss: 0.3343 - accuracy: 0.9963 - val_loss: 0.0000e+00 - val_accuracy: 1.0000\n",
      "Epoch 6/10\n",
      "17/17 [==============================] - 0s 19ms/step - loss: 0.2867 - accuracy: 0.9981 - val_loss: 0.0000e+00 - val_accuracy: 1.0000\n",
      "1/1 [==============================] - 0s 17ms/step\n"
     ]
    },
    {
     "name": "stderr",
     "output_type": "stream",
     "text": [
      "2023/04/02 19:04:20 WARNING mlflow.utils.autologging_utils: MLflow autologging encountered a warning: \"C:\\Users\\crist\\AppData\\Roaming\\Python\\Python39\\site-packages\\mlflow\\tensorflow\\__init__.py:189: UserWarning: The pyfunc inference behavior of Keras models logged with signatures differs from the behavior of Keras models logged without signatures. Specifically, when a signature is present, passing a Pandas DataFrame as input to the pyfunc `predict()` API produces an `ndarray` (for single-output models) or a dictionary of `str -> ndarray`: (for multi-output models). In contrast, when a signature is *not* present, `predict()` produces a Pandas DataFrame output in response to a Pandas DataFrame input.\"\n",
      "WARNING:absl:Found untraced functions such as _jit_compiled_convolution_op while saving (showing 1 of 1). These functions will not be directly callable after loading.\n",
      "INFO:tensorflow:Assets written to: C:\\Users\\crist\\AppData\\Local\\Temp\\tmpfcnli4ji\\model\\data\\model\\assets\n"
     ]
    },
    {
     "name": "stdout",
     "output_type": "stream",
     "text": [
      "Training fold 3/5\n",
      "Epoch 1/10\n",
      " 5/17 [=======>......................] - ETA: 0s - loss: 0.0000e+00 - accuracy: 1.0000"
     ]
    },
    {
     "name": "stderr",
     "output_type": "stream",
     "text": [
      "WARNING:tensorflow:Callback method `on_train_batch_end` is slow compared to the batch time (batch time: 0.0071s vs `on_train_batch_end` time: 0.0078s). Check your callbacks.\n"
     ]
    },
    {
     "name": "stdout",
     "output_type": "stream",
     "text": [
      "17/17 [==============================] - 0s 26ms/step - loss: 8.6919e-36 - accuracy: 1.0000 - val_loss: 0.0000e+00 - val_accuracy: 1.0000\n",
      "Epoch 2/10\n",
      "17/17 [==============================] - 0s 20ms/step - loss: 0.0220 - accuracy: 0.9981 - val_loss: 0.0000e+00 - val_accuracy: 1.0000\n",
      "Epoch 3/10\n",
      "17/17 [==============================] - 0s 18ms/step - loss: 0.1947 - accuracy: 0.9981 - val_loss: 0.0000e+00 - val_accuracy: 1.0000\n",
      "Epoch 4/10\n",
      "17/17 [==============================] - 0s 20ms/step - loss: 4.3678e-10 - accuracy: 1.0000 - val_loss: 0.0000e+00 - val_accuracy: 1.0000\n",
      "Epoch 5/10\n",
      "17/17 [==============================] - 0s 19ms/step - loss: 0.1646 - accuracy: 0.9981 - val_loss: 0.0000e+00 - val_accuracy: 1.0000\n",
      "Epoch 6/10\n",
      "17/17 [==============================] - 0s 22ms/step - loss: 0.2703 - accuracy: 0.9963 - val_loss: 0.0000e+00 - val_accuracy: 1.0000\n",
      "1/1 [==============================] - 0s 16ms/step\n"
     ]
    },
    {
     "name": "stderr",
     "output_type": "stream",
     "text": [
      "2023/04/02 19:04:32 WARNING mlflow.utils.autologging_utils: MLflow autologging encountered a warning: \"C:\\Users\\crist\\AppData\\Roaming\\Python\\Python39\\site-packages\\mlflow\\tensorflow\\__init__.py:189: UserWarning: The pyfunc inference behavior of Keras models logged with signatures differs from the behavior of Keras models logged without signatures. Specifically, when a signature is present, passing a Pandas DataFrame as input to the pyfunc `predict()` API produces an `ndarray` (for single-output models) or a dictionary of `str -> ndarray`: (for multi-output models). In contrast, when a signature is *not* present, `predict()` produces a Pandas DataFrame output in response to a Pandas DataFrame input.\"\n",
      "WARNING:absl:Found untraced functions such as _jit_compiled_convolution_op while saving (showing 1 of 1). These functions will not be directly callable after loading.\n",
      "INFO:tensorflow:Assets written to: C:\\Users\\crist\\AppData\\Local\\Temp\\tmpi0ib5rq4\\model\\data\\model\\assets\n"
     ]
    },
    {
     "name": "stdout",
     "output_type": "stream",
     "text": [
      "Training fold 4/5\n",
      "Epoch 1/10\n",
      " 5/17 [=======>......................] - ETA: 0s - loss: 0.0000e+00 - accuracy: 1.0000"
     ]
    },
    {
     "name": "stderr",
     "output_type": "stream",
     "text": [
      "WARNING:tensorflow:Callback method `on_train_batch_end` is slow compared to the batch time (batch time: 0.0070s vs `on_train_batch_end` time: 0.0078s). Check your callbacks.\n"
     ]
    },
    {
     "name": "stdout",
     "output_type": "stream",
     "text": [
      "17/17 [==============================] - 0s 24ms/step - loss: 0.1291 - accuracy: 0.9981 - val_loss: 0.0000e+00 - val_accuracy: 1.0000\n",
      "Epoch 2/10\n",
      "17/17 [==============================] - 0s 18ms/step - loss: 0.1438 - accuracy: 0.9981 - val_loss: 0.0000e+00 - val_accuracy: 1.0000\n",
      "Epoch 3/10\n",
      "17/17 [==============================] - 0s 17ms/step - loss: 0.0576 - accuracy: 0.9981 - val_loss: 0.0000e+00 - val_accuracy: 1.0000\n",
      "Epoch 4/10\n",
      "17/17 [==============================] - 0s 18ms/step - loss: 0.0000e+00 - accuracy: 1.0000 - val_loss: 0.0000e+00 - val_accuracy: 1.0000\n",
      "Epoch 5/10\n",
      "17/17 [==============================] - 0s 18ms/step - loss: 1.8577e-26 - accuracy: 1.0000 - val_loss: 0.0000e+00 - val_accuracy: 1.0000\n",
      "Epoch 6/10\n",
      "17/17 [==============================] - 0s 19ms/step - loss: 0.0000e+00 - accuracy: 1.0000 - val_loss: 0.0000e+00 - val_accuracy: 1.0000\n",
      "1/1 [==============================] - 0s 16ms/step\n"
     ]
    },
    {
     "name": "stderr",
     "output_type": "stream",
     "text": [
      "2023/04/02 19:04:43 WARNING mlflow.utils.autologging_utils: MLflow autologging encountered a warning: \"C:\\Users\\crist\\AppData\\Roaming\\Python\\Python39\\site-packages\\mlflow\\tensorflow\\__init__.py:189: UserWarning: The pyfunc inference behavior of Keras models logged with signatures differs from the behavior of Keras models logged without signatures. Specifically, when a signature is present, passing a Pandas DataFrame as input to the pyfunc `predict()` API produces an `ndarray` (for single-output models) or a dictionary of `str -> ndarray`: (for multi-output models). In contrast, when a signature is *not* present, `predict()` produces a Pandas DataFrame output in response to a Pandas DataFrame input.\"\n",
      "WARNING:absl:Found untraced functions such as _jit_compiled_convolution_op while saving (showing 1 of 1). These functions will not be directly callable after loading.\n",
      "INFO:tensorflow:Assets written to: C:\\Users\\crist\\AppData\\Local\\Temp\\tmp3u4vu18n\\model\\data\\model\\assets\n"
     ]
    },
    {
     "name": "stdout",
     "output_type": "stream",
     "text": [
      "Training fold 5/5\n",
      "Epoch 1/10\n",
      " 5/17 [=======>......................] - ETA: 0s - loss: 0.0000e+00 - accuracy: 1.0000"
     ]
    },
    {
     "name": "stderr",
     "output_type": "stream",
     "text": [
      "WARNING:tensorflow:Callback method `on_train_batch_end` is slow compared to the batch time (batch time: 0.0074s vs `on_train_batch_end` time: 0.0077s). Check your callbacks.\n"
     ]
    },
    {
     "name": "stdout",
     "output_type": "stream",
     "text": [
      "17/17 [==============================] - 0s 27ms/step - loss: 7.5080e-28 - accuracy: 1.0000 - val_loss: 0.0000e+00 - val_accuracy: 1.0000\n",
      "Epoch 2/10\n",
      "17/17 [==============================] - 0s 18ms/step - loss: 0.0000e+00 - accuracy: 1.0000 - val_loss: 0.0000e+00 - val_accuracy: 1.0000\n",
      "Epoch 3/10\n",
      "17/17 [==============================] - 0s 17ms/step - loss: 0.0000e+00 - accuracy: 1.0000 - val_loss: 0.0000e+00 - val_accuracy: 1.0000\n",
      "Epoch 4/10\n",
      "17/17 [==============================] - 0s 18ms/step - loss: 0.0276 - accuracy: 0.9981 - val_loss: 0.0000e+00 - val_accuracy: 1.0000\n",
      "Epoch 5/10\n",
      "17/17 [==============================] - 0s 18ms/step - loss: 0.4336 - accuracy: 0.9981 - val_loss: 0.0000e+00 - val_accuracy: 1.0000\n",
      "Epoch 6/10\n",
      "17/17 [==============================] - 0s 18ms/step - loss: 0.9919 - accuracy: 0.9907 - val_loss: 0.0000e+00 - val_accuracy: 1.0000\n",
      "1/1 [==============================] - 0s 17ms/step\n"
     ]
    },
    {
     "name": "stderr",
     "output_type": "stream",
     "text": [
      "2023/04/02 19:04:53 WARNING mlflow.utils.autologging_utils: MLflow autologging encountered a warning: \"C:\\Users\\crist\\AppData\\Roaming\\Python\\Python39\\site-packages\\mlflow\\tensorflow\\__init__.py:189: UserWarning: The pyfunc inference behavior of Keras models logged with signatures differs from the behavior of Keras models logged without signatures. Specifically, when a signature is present, passing a Pandas DataFrame as input to the pyfunc `predict()` API produces an `ndarray` (for single-output models) or a dictionary of `str -> ndarray`: (for multi-output models). In contrast, when a signature is *not* present, `predict()` produces a Pandas DataFrame output in response to a Pandas DataFrame input.\"\n",
      "WARNING:absl:Found untraced functions such as _jit_compiled_convolution_op while saving (showing 1 of 1). These functions will not be directly callable after loading.\n",
      "INFO:tensorflow:Assets written to: C:\\Users\\crist\\AppData\\Local\\Temp\\tmphahvf_7v\\model\\data\\model\\assets\n"
     ]
    },
    {
     "name": "stdout",
     "output_type": "stream",
     "text": [
      "3/3 [==============================] - 0s 5ms/step\n"
     ]
    },
    {
     "data": {
      "image/png": "[encoded data removed]",
      "text/plain": [
       "<Figure size 1296x288 with 3 Axes>"
      ]
     },
     "metadata": {
      "needs_background": "light"
     },
     "output_type": "display_data"
    },
    {
     "data": {
      "image/png": "[encoded data removed]",
      "text/plain": [
       "<Figure size 1296x288 with 3 Axes>"
      ]
     },
     "metadata": {
      "needs_background": "light"
     },
     "output_type": "display_data"
    }
   ],
   "source": [
    "experiment_1 = Experiment(\n",
    "    experiment_name = \"CNN_autolog_experiment\",\n",
    "    model_name = \"CNN_basic_1_layer\",\n",
    "    model = create_model_cnn_basic_1_layer(),\n",
    "    dataset = (X_train, y_train, X_val, y_val),\n",
    "    hyperparameters = {\n",
    "        \"epochs\": 10,\n",
    "        \"filters\": 256,\n",
    "        \"kernel_size\": 3,\n",
    "        \"pool_size\": 1,\n",
    "        \"dropout\": 0.1,\n",
    "        \"dense_size\": 32,\n",
    "        \"loss\": \"binary_crossentropy\",\n",
    "        \"optimizer\": \"adam\",\n",
    "\n",
    "    },metrics = [\"accuracy\"],\n",
    "\n",
    "    n_splits = 5\n",
    ")\n",
    "\n",
    "registrar_experiment(experiment_1)"
   ]
  },
  {
   "cell_type": "code",
   "execution_count": 34,
   "metadata": {},
   "outputs": [
    {
     "name": "stderr",
     "output_type": "stream",
     "text": [
      "WARNING:root:Malformed experiment 'models'. Detailed error Yaml file 'C:\\Users\\crist\\Documents\\tesis\\SeizurePrediction\\src\\notebooks\\mlruns\\models\\meta.yaml' does not exist.\n",
      "Traceback (most recent call last):\n",
      "  File \"C:\\Users\\crist\\AppData\\Roaming\\Python\\Python39\\site-packages\\mlflow\\store\\tracking\\file_store.py\", line 279, in search_experiments\n",
      "    exp = self._get_experiment(exp_id, view_type)\n",
      "  File \"C:\\Users\\crist\\AppData\\Roaming\\Python\\Python39\\site-packages\\mlflow\\store\\tracking\\file_store.py\", line 372, in _get_experiment\n",
      "    meta = FileStore._read_yaml(experiment_dir, FileStore.META_DATA_FILE_NAME)\n",
      "  File \"C:\\Users\\crist\\AppData\\Roaming\\Python\\Python39\\site-packages\\mlflow\\store\\tracking\\file_store.py\", line 1082, in _read_yaml\n",
      "    return _read_helper(root, file_name, attempts_remaining=retries)\n",
      "  File \"C:\\Users\\crist\\AppData\\Roaming\\Python\\Python39\\site-packages\\mlflow\\store\\tracking\\file_store.py\", line 1075, in _read_helper\n",
      "    result = read_yaml(root, file_name)\n",
      "  File \"C:\\Users\\crist\\AppData\\Roaming\\Python\\Python39\\site-packages\\mlflow\\utils\\file_utils.py\", line 182, in read_yaml\n",
      "    raise MissingConfigException(\"Yaml file '%s' does not exist.\" % file_path)\n",
      "mlflow.exceptions.MissingConfigException: Yaml file 'C:\\Users\\crist\\Documents\\tesis\\SeizurePrediction\\src\\notebooks\\mlruns\\models\\meta.yaml' does not exist.\n"
     ]
    },
    {
     "name": "stdout",
     "output_type": "stream",
     "text": [
      "Training fold 1/5\n",
      "Epoch 1/20\n",
      " 5/17 [=======>......................] - ETA: 0s - loss: 160.3450 - accuracy: 0.4313"
     ]
    },
    {
     "name": "stderr",
     "output_type": "stream",
     "text": [
      "WARNING:tensorflow:Callback method `on_train_batch_end` is slow compared to the batch time (batch time: 0.0102s vs `on_train_batch_end` time: 0.0288s). Check your callbacks.\n"
     ]
    },
    {
     "name": "stdout",
     "output_type": "stream",
     "text": [
      "17/17 [==============================] - 1s 35ms/step - loss: 193.2702 - accuracy: 0.5438 - val_loss: 194.1573 - val_accuracy: 0.6296\n",
      "Epoch 2/20\n",
      "17/17 [==============================] - 0s 10ms/step - loss: 35.6854 - accuracy: 0.8659 - val_loss: 152.9304 - val_accuracy: 0.6519\n",
      "Epoch 3/20\n",
      "17/17 [==============================] - 0s 9ms/step - loss: 7.6659 - accuracy: 0.9497 - val_loss: 153.7508 - val_accuracy: 0.6593\n",
      "Epoch 4/20\n",
      "17/17 [==============================] - 0s 11ms/step - loss: 4.8173 - accuracy: 0.9758 - val_loss: 141.3276 - val_accuracy: 0.6741\n",
      "Epoch 5/20\n",
      "17/17 [==============================] - 0s 9ms/step - loss: 1.7150 - accuracy: 0.9814 - val_loss: 156.6990 - val_accuracy: 0.6519\n",
      "Epoch 6/20\n",
      "17/17 [==============================] - 0s 9ms/step - loss: 0.9771 - accuracy: 0.9907 - val_loss: 172.9714 - val_accuracy: 0.6963\n",
      "Epoch 7/20\n",
      "17/17 [==============================] - 0s 9ms/step - loss: 0.9038 - accuracy: 0.9907 - val_loss: 182.9901 - val_accuracy: 0.6667\n",
      "Epoch 8/20\n",
      "17/17 [==============================] - 0s 9ms/step - loss: 0.3411 - accuracy: 0.9981 - val_loss: 187.4458 - val_accuracy: 0.6815\n",
      "Epoch 9/20\n",
      "17/17 [==============================] - 0s 9ms/step - loss: 0.4712 - accuracy: 0.9926 - val_loss: 193.5239 - val_accuracy: 0.6889\n",
      "1/1 [==============================] - 0s 37ms/step\n"
     ]
    },
    {
     "name": "stderr",
     "output_type": "stream",
     "text": [
      "2023/04/02 19:24:48 WARNING mlflow.utils.autologging_utils: MLflow autologging encountered a warning: \"C:\\Users\\crist\\AppData\\Roaming\\Python\\Python39\\site-packages\\mlflow\\tensorflow\\__init__.py:189: UserWarning: The pyfunc inference behavior of Keras models logged with signatures differs from the behavior of Keras models logged without signatures. Specifically, when a signature is present, passing a Pandas DataFrame as input to the pyfunc `predict()` API produces an `ndarray` (for single-output models) or a dictionary of `str -> ndarray`: (for multi-output models). In contrast, when a signature is *not* present, `predict()` produces a Pandas DataFrame output in response to a Pandas DataFrame input.\"\n",
      "INFO:tensorflow:Assets written to: C:\\Users\\crist\\AppData\\Local\\Temp\\tmp3l0umkl7\\model\\data\\model\\assets\n"
     ]
    },
    {
     "name": "stdout",
     "output_type": "stream",
     "text": [
      "Training fold 2/5\n",
      "Epoch 1/20\n",
      "17/17 [==============================] - 0s 14ms/step - loss: 38.4257 - accuracy: 0.9032 - val_loss: 4.5645 - val_accuracy: 0.9630\n",
      "Epoch 2/20\n",
      "17/17 [==============================] - 0s 9ms/step - loss: 11.0409 - accuracy: 0.9348 - val_loss: 16.5748 - val_accuracy: 0.9259\n",
      "Epoch 3/20\n",
      "17/17 [==============================] - 0s 9ms/step - loss: 6.6882 - accuracy: 0.9646 - val_loss: 34.8876 - val_accuracy: 0.9037\n",
      "Epoch 4/20\n",
      "17/17 [==============================] - 0s 9ms/step - loss: 6.1263 - accuracy: 0.9609 - val_loss: 23.8090 - val_accuracy: 0.9037\n",
      "Epoch 5/20\n",
      "17/17 [==============================] - 0s 11ms/step - loss: 0.9054 - accuracy: 0.9870 - val_loss: 26.9624 - val_accuracy: 0.8889\n",
      "Epoch 6/20\n",
      "17/17 [==============================] - 0s 10ms/step - loss: 1.9772 - accuracy: 0.9777 - val_loss: 21.3429 - val_accuracy: 0.9037\n",
      "1/1 [==============================] - 0s 17ms/step\n"
     ]
    },
    {
     "name": "stderr",
     "output_type": "stream",
     "text": [
      "2023/04/02 19:24:55 WARNING mlflow.utils.autologging_utils: MLflow autologging encountered a warning: \"C:\\Users\\crist\\AppData\\Roaming\\Python\\Python39\\site-packages\\mlflow\\tensorflow\\__init__.py:189: UserWarning: The pyfunc inference behavior of Keras models logged with signatures differs from the behavior of Keras models logged without signatures. Specifically, when a signature is present, passing a Pandas DataFrame as input to the pyfunc `predict()` API produces an `ndarray` (for single-output models) or a dictionary of `str -> ndarray`: (for multi-output models). In contrast, when a signature is *not* present, `predict()` produces a Pandas DataFrame output in response to a Pandas DataFrame input.\"\n",
      "INFO:tensorflow:Assets written to: C:\\Users\\crist\\AppData\\Local\\Temp\\tmpx5mtvyyn\\model\\data\\model\\assets\n"
     ]
    },
    {
     "name": "stdout",
     "output_type": "stream",
     "text": [
      "Training fold 3/5\n",
      "Epoch 1/20\n",
      "17/17 [==============================] - 0s 16ms/step - loss: 6.6368 - accuracy: 0.9572 - val_loss: 8.1227 - val_accuracy: 0.9701\n",
      "Epoch 2/20\n",
      "17/17 [==============================] - 0s 9ms/step - loss: 4.0230 - accuracy: 0.9703 - val_loss: 12.4541 - val_accuracy: 0.9552\n",
      "Epoch 3/20\n",
      "17/17 [==============================] - 0s 9ms/step - loss: 4.9752 - accuracy: 0.9665 - val_loss: 24.0422 - val_accuracy: 0.9403\n",
      "Epoch 4/20\n",
      "17/17 [==============================] - 0s 9ms/step - loss: 4.1136 - accuracy: 0.9740 - val_loss: 14.1326 - val_accuracy: 0.9403\n",
      "Epoch 5/20\n",
      "17/17 [==============================] - 0s 9ms/step - loss: 2.1240 - accuracy: 0.9870 - val_loss: 14.2213 - val_accuracy: 0.9552\n",
      "Epoch 6/20\n",
      "17/17 [==============================] - 0s 9ms/step - loss: 1.3048 - accuracy: 0.9833 - val_loss: 21.7005 - val_accuracy: 0.9403\n",
      "1/1 [==============================] - 0s 20ms/step\n"
     ]
    },
    {
     "name": "stderr",
     "output_type": "stream",
     "text": [
      "2023/04/02 19:25:03 WARNING mlflow.utils.autologging_utils: MLflow autologging encountered a warning: \"C:\\Users\\crist\\AppData\\Roaming\\Python\\Python39\\site-packages\\mlflow\\tensorflow\\__init__.py:189: UserWarning: The pyfunc inference behavior of Keras models logged with signatures differs from the behavior of Keras models logged without signatures. Specifically, when a signature is present, passing a Pandas DataFrame as input to the pyfunc `predict()` API produces an `ndarray` (for single-output models) or a dictionary of `str -> ndarray`: (for multi-output models). In contrast, when a signature is *not* present, `predict()` produces a Pandas DataFrame output in response to a Pandas DataFrame input.\"\n",
      "INFO:tensorflow:Assets written to: C:\\Users\\crist\\AppData\\Local\\Temp\\tmplu33njwl\\model\\data\\model\\assets\n"
     ]
    },
    {
     "name": "stdout",
     "output_type": "stream",
     "text": [
      "Training fold 4/5\n",
      "Epoch 1/20\n",
      "17/17 [==============================] - 0s 17ms/step - loss: 5.0164 - accuracy: 0.9721 - val_loss: 3.1051 - val_accuracy: 0.9701\n",
      "Epoch 2/20\n",
      "17/17 [==============================] - 0s 9ms/step - loss: 5.4411 - accuracy: 0.9647 - val_loss: 4.2017 - val_accuracy: 0.9552\n",
      "Epoch 3/20\n",
      "17/17 [==============================] - 0s 9ms/step - loss: 2.6210 - accuracy: 0.9740 - val_loss: 3.1703 - val_accuracy: 0.9552\n",
      "Epoch 4/20\n",
      "17/17 [==============================] - 0s 10ms/step - loss: 0.5684 - accuracy: 0.9870 - val_loss: 1.6513 - val_accuracy: 0.9701\n",
      "Epoch 5/20\n",
      "17/17 [==============================] - 0s 9ms/step - loss: 2.1314 - accuracy: 0.9888 - val_loss: 3.8702 - val_accuracy: 0.9552\n",
      "Epoch 6/20\n",
      "17/17 [==============================] - 0s 10ms/step - loss: 0.4951 - accuracy: 0.9870 - val_loss: 12.9714 - val_accuracy: 0.9328\n",
      "Epoch 7/20\n",
      "17/17 [==============================] - 0s 10ms/step - loss: 1.8687 - accuracy: 0.9851 - val_loss: 16.4737 - val_accuracy: 0.9478\n",
      "Epoch 8/20\n",
      "17/17 [==============================] - 0s 11ms/step - loss: 1.6749 - accuracy: 0.9870 - val_loss: 16.4284 - val_accuracy: 0.9403\n",
      "Epoch 9/20\n",
      "17/17 [==============================] - 0s 10ms/step - loss: 0.9311 - accuracy: 0.9888 - val_loss: 10.3390 - val_accuracy: 0.9328\n",
      "1/1 [==============================] - 0s 19ms/step\n"
     ]
    },
    {
     "name": "stderr",
     "output_type": "stream",
     "text": [
      "2023/04/02 19:25:12 WARNING mlflow.utils.autologging_utils: MLflow autologging encountered a warning: \"C:\\Users\\crist\\AppData\\Roaming\\Python\\Python39\\site-packages\\mlflow\\tensorflow\\__init__.py:189: UserWarning: The pyfunc inference behavior of Keras models logged with signatures differs from the behavior of Keras models logged without signatures. Specifically, when a signature is present, passing a Pandas DataFrame as input to the pyfunc `predict()` API produces an `ndarray` (for single-output models) or a dictionary of `str -> ndarray`: (for multi-output models). In contrast, when a signature is *not* present, `predict()` produces a Pandas DataFrame output in response to a Pandas DataFrame input.\"\n",
      "INFO:tensorflow:Assets written to: C:\\Users\\crist\\AppData\\Local\\Temp\\tmp1a6sh02b\\model\\data\\model\\assets\n"
     ]
    },
    {
     "name": "stdout",
     "output_type": "stream",
     "text": [
      "Training fold 5/5\n",
      "Epoch 1/20\n",
      "17/17 [==============================] - 0s 15ms/step - loss: 1.2858 - accuracy: 0.9870 - val_loss: 2.4277 - val_accuracy: 0.9925\n",
      "Epoch 2/20\n",
      "17/17 [==============================] - 0s 12ms/step - loss: 1.4570 - accuracy: 0.9833 - val_loss: 0.5085 - val_accuracy: 0.9925\n",
      "Epoch 3/20\n",
      "17/17 [==============================] - 0s 10ms/step - loss: 4.2693 - accuracy: 0.9777 - val_loss: 0.9153 - val_accuracy: 0.9701\n",
      "Epoch 4/20\n",
      "17/17 [==============================] - 0s 10ms/step - loss: 6.6415 - accuracy: 0.9740 - val_loss: 11.0347 - val_accuracy: 0.9254\n",
      "Epoch 5/20\n",
      "17/17 [==============================] - 0s 9ms/step - loss: 7.4078 - accuracy: 0.9647 - val_loss: 15.2022 - val_accuracy: 0.9254\n",
      "Epoch 6/20\n",
      "17/17 [==============================] - 0s 9ms/step - loss: 4.6518 - accuracy: 0.9721 - val_loss: 20.6963 - val_accuracy: 0.9254\n",
      "Epoch 7/20\n",
      "17/17 [==============================] - 0s 9ms/step - loss: 3.9448 - accuracy: 0.9870 - val_loss: 18.3774 - val_accuracy: 0.8955\n",
      "1/1 [==============================] - 0s 17ms/step\n"
     ]
    },
    {
     "name": "stderr",
     "output_type": "stream",
     "text": [
      "2023/04/02 19:25:21 WARNING mlflow.utils.autologging_utils: MLflow autologging encountered a warning: \"C:\\Users\\crist\\AppData\\Roaming\\Python\\Python39\\site-packages\\mlflow\\tensorflow\\__init__.py:189: UserWarning: The pyfunc inference behavior of Keras models logged with signatures differs from the behavior of Keras models logged without signatures. Specifically, when a signature is present, passing a Pandas DataFrame as input to the pyfunc `predict()` API produces an `ndarray` (for single-output models) or a dictionary of `str -> ndarray`: (for multi-output models). In contrast, when a signature is *not* present, `predict()` produces a Pandas DataFrame output in response to a Pandas DataFrame input.\"\n",
      "INFO:tensorflow:Assets written to: C:\\Users\\crist\\AppData\\Local\\Temp\\tmpzem8z4sp\\model\\data\\model\\assets\n"
     ]
    },
    {
     "name": "stdout",
     "output_type": "stream",
     "text": [
      "3/3 [==============================] - 0s 3ms/step\n"
     ]
    },
    {
     "data": {
      "image/png": "[encoded data removed]",
      "text/plain": [
       "<Figure size 1296x288 with 3 Axes>"
      ]
     },
     "metadata": {
      "needs_background": "light"
     },
     "output_type": "display_data"
    },
    {
     "data": {
      "image/png": "[encoded data removed]",
      "text/plain": [
       "<Figure size 1296x288 with 3 Axes>"
      ]
     },
     "metadata": {
      "needs_background": "light"
     },
     "output_type": "display_data"
    }
   ],
   "source": [
    "experiment_mlp = Experiment(\n",
    "    experiment_name = \"MLP_autolog_exp\",\n",
    "    model_name = \"MLP_basic_1_layer\",\n",
    "    model = create_model_mlp(),\n",
    "    dataset = (X_train, y_train, X_val, y_val),\n",
    "    hyperparameters = {\n",
    "        \"epochs\": 20,\n",
    "        \n",
    "        },\n",
    "        metrics = [\"accuracy\"], n_splits = 5)\n",
    "\n",
    "registrar_experiment(experiment_mlp)"
   ]
  },
  {
   "cell_type": "code",
   "execution_count": 29,
   "metadata": {},
   "outputs": [
    {
     "name": "stdout",
     "output_type": "stream",
     "text": [
      "[0. 1.]\n",
      "[340 332]\n"
     ]
    }
   ],
   "source": [
    "# count values in list y_train y y_val\n",
    "y_train\n",
    "\n",
    "unique_values, counts = np.unique(y_train, return_counts=True)\n",
    "\n",
    "print(unique_values)\n",
    "print(counts)"
   ]
  },
  {
   "cell_type": "code",
   "execution_count": 30,
   "metadata": {},
   "outputs": [
    {
     "name": "stdout",
     "output_type": "stream",
     "text": [
      "[0. 1.]\n",
      "[40 44]\n"
     ]
    }
   ],
   "source": [
    "unique_values, counts = np.unique(y_val, return_counts=True)\n",
    "\n",
    "print(unique_values)\n",
    "print(counts)"
   ]
  }
 ],
 "metadata": {
  "kernelspec": {
   "display_name": "gpu_base",
   "language": "python",
   "name": "python3"
  },
  "language_info": {
   "codemirror_mode": {
    "name": "ipython",
    "version": 3
   },
   "file_extension": ".py",
   "mimetype": "text/x-python",
   "name": "python",
   "nbconvert_exporter": "python",
   "pygments_lexer": "ipython3",
   "version": "3.10.0"
  },
  "orig_nbformat": 4
 },
 "nbformat": 4,
 "nbformat_minor": 2
}
