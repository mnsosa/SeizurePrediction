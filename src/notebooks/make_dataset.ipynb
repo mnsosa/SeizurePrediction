{
 "cells": [
  {
   "attachments": {},
   "cell_type": "markdown",
   "metadata": {},
   "source": [
    "# Make dataset to train ML models"
   ]
  },
  {
   "cell_type": "code",
   "execution_count": 1,
   "metadata": {},
   "outputs": [],
   "source": [
    "from sz_utils import data_handler"
   ]
  },
  {
   "attachments": {},
   "cell_type": "markdown",
   "metadata": {},
   "source": [
    "## 1. Take 5 minutes before each seizure. "
   ]
  },
  {
   "cell_type": "code",
   "execution_count": 3,
   "metadata": {},
   "outputs": [
    {
     "data": {
      "text/plain": [
       "['chb01_01.edf',\n",
       " 'chb01_02.edf',\n",
       " 'chb01_03.edf',\n",
       " 'chb01_04.edf',\n",
       " 'chb01_05.edf']"
      ]
     },
     "execution_count": 3,
     "metadata": {},
     "output_type": "execute_result"
    }
   ],
   "source": [
    "# Just for patient 1\n",
    "# 1. Load the data\n",
    "patients = data_handler.get_patients()\n",
    "\n",
    "# 2. Get edf files for patients[0]\n",
    "edf_files = data_handler.get_patient_edf(patients[0])\n",
    "\n",
    "edf_files[:5]"
   ]
  },
  {
   "cell_type": "code",
   "execution_count": 5,
   "metadata": {},
   "outputs": [
    {
     "data": {
      "text/html": [
       "<div>\n",
       "<style scoped>\n",
       "    .dataframe tbody tr th:only-of-type {\n",
       "        vertical-align: middle;\n",
       "    }\n",
       "\n",
       "    .dataframe tbody tr th {\n",
       "        vertical-align: top;\n",
       "    }\n",
       "\n",
       "    .dataframe thead th {\n",
       "        text-align: right;\n",
       "    }\n",
       "</style>\n",
       "<table border=\"1\" class=\"dataframe\">\n",
       "  <thead>\n",
       "    <tr style=\"text-align: right;\">\n",
       "      <th></th>\n",
       "      <th>file_name</th>\n",
       "      <th>number_of_seizures</th>\n",
       "      <th>start_end_times</th>\n",
       "    </tr>\n",
       "  </thead>\n",
       "  <tbody>\n",
       "    <tr>\n",
       "      <th>0</th>\n",
       "      <td>chb01_01.edf</td>\n",
       "      <td>0</td>\n",
       "      <td>NaN</td>\n",
       "    </tr>\n",
       "    <tr>\n",
       "      <th>1</th>\n",
       "      <td>chb01_02.edf</td>\n",
       "      <td>0</td>\n",
       "      <td>NaN</td>\n",
       "    </tr>\n",
       "    <tr>\n",
       "      <th>2</th>\n",
       "      <td>chb01_03.edf</td>\n",
       "      <td>1</td>\n",
       "      <td>[(2996, 3036)]</td>\n",
       "    </tr>\n",
       "    <tr>\n",
       "      <th>3</th>\n",
       "      <td>chb01_04.edf</td>\n",
       "      <td>1</td>\n",
       "      <td>[(1467, 1494)]</td>\n",
       "    </tr>\n",
       "    <tr>\n",
       "      <th>4</th>\n",
       "      <td>chb01_05.edf</td>\n",
       "      <td>0</td>\n",
       "      <td>NaN</td>\n",
       "    </tr>\n",
       "  </tbody>\n",
       "</table>\n",
       "</div>"
      ],
      "text/plain": [
       "      file_name  number_of_seizures start_end_times\n",
       "0  chb01_01.edf                   0             NaN\n",
       "1  chb01_02.edf                   0             NaN\n",
       "2  chb01_03.edf                   1  [(2996, 3036)]\n",
       "3  chb01_04.edf                   1  [(1467, 1494)]\n",
       "4  chb01_05.edf                   0             NaN"
      ]
     },
     "execution_count": 5,
     "metadata": {},
     "output_type": "execute_result"
    }
   ],
   "source": [
    "# 3. Get info about seizures\n",
    "seizures = data_handler.get_seizure_data(patients[0])\n",
    "\n",
    "seizures.head()"
   ]
  },
  {
   "cell_type": "code",
   "execution_count": 7,
   "metadata": {},
   "outputs": [],
   "source": [
    "# 4. Split into the one with and without seizures\n",
    "seizures_with = seizures[seizures[\"number_of_seizures\"] > 0]\n",
    "seizures_without = seizures[seizures[\"number_of_seizures\"] == 0]"
   ]
  },
  {
   "cell_type": "code",
   "execution_count": 22,
   "metadata": {},
   "outputs": [
    {
     "data": {
      "text/plain": [
       "[[(2996, 3036)],\n",
       " [(1467, 1494)],\n",
       " [(1732, 1772)],\n",
       " [(1015, 1066)],\n",
       " [(1720, 1810)],\n",
       " [(327, 420)],\n",
       " [(1862, 1963)]]"
      ]
     },
     "execution_count": 22,
     "metadata": {},
     "output_type": "execute_result"
    }
   ],
   "source": [
    "# 5. For each file with seizures, get the seizure times\n",
    "from ast import literal_eval\n",
    "\n",
    "seizure_times = []\n",
    "for edf_file in seizures_with[\"file_name\"]:\n",
    "    seizure_times.append(\n",
    "        literal_eval(seizures_with[seizures_with[\"file_name\"] == edf_file][\"start_end_times\"].values[0])\n",
    "    )\n",
    "\n",
    "seizure_times"
   ]
  },
  {
   "cell_type": "code",
   "execution_count": 17,
   "metadata": {},
   "outputs": [
    {
     "data": {
      "text/plain": [
       "array(['chb01_03.edf', 'chb01_04.edf', 'chb01_15.edf', 'chb01_16.edf',\n",
       "       'chb01_18.edf', 'chb01_21.edf', 'chb01_26.edf'], dtype=object)"
      ]
     },
     "execution_count": 17,
     "metadata": {},
     "output_type": "execute_result"
    }
   ],
   "source": [
    "# 6. Get the edf_files_names with seizures\n",
    "edf_files_with_seizures = seizures_with[\"file_name\"].values\n",
    "edf_files_with_seizures"
   ]
  },
  {
   "cell_type": "code",
   "execution_count": 33,
   "metadata": {},
   "outputs": [
    {
     "name": "stdout",
     "output_type": "stream",
     "text": [
      "Extracting EDF parameters from /mnt/e/Documents/projects/seizure-prediction/data/chb-mit-scalp-eeg-database-1.0.0/chb01/chb01_03.edf...\n",
      "EDF file detected\n",
      "Setting channel info structure...\n",
      "Creating raw.info structure...\n"
     ]
    },
    {
     "name": "stderr",
     "output_type": "stream",
     "text": [
      "/home/mnsosa/projects/SeizurePrediction/src/sz_utils/data_handler.py:75: RuntimeWarning: Channel names are not unique, found duplicates for: {'T8-P8'}. Applying running numbers for duplicates.\n",
      "  mne_data = mne.io.read_raw_edf(edf_path)\n"
     ]
    },
    {
     "name": "stdout",
     "output_type": "stream",
     "text": [
      "Extracting EDF parameters from /mnt/e/Documents/projects/seizure-prediction/data/chb-mit-scalp-eeg-database-1.0.0/chb01/chb01_04.edf...\n",
      "EDF file detected\n",
      "Setting channel info structure...\n",
      "Creating raw.info structure...\n"
     ]
    },
    {
     "name": "stderr",
     "output_type": "stream",
     "text": [
      "/home/mnsosa/projects/SeizurePrediction/src/sz_utils/data_handler.py:75: RuntimeWarning: Channel names are not unique, found duplicates for: {'T8-P8'}. Applying running numbers for duplicates.\n",
      "  mne_data = mne.io.read_raw_edf(edf_path)\n"
     ]
    },
    {
     "name": "stdout",
     "output_type": "stream",
     "text": [
      "Extracting EDF parameters from /mnt/e/Documents/projects/seizure-prediction/data/chb-mit-scalp-eeg-database-1.0.0/chb01/chb01_15.edf...\n",
      "EDF file detected\n",
      "Setting channel info structure...\n",
      "Creating raw.info structure...\n"
     ]
    },
    {
     "name": "stderr",
     "output_type": "stream",
     "text": [
      "/home/mnsosa/projects/SeizurePrediction/src/sz_utils/data_handler.py:75: RuntimeWarning: Channel names are not unique, found duplicates for: {'T8-P8'}. Applying running numbers for duplicates.\n",
      "  mne_data = mne.io.read_raw_edf(edf_path)\n"
     ]
    },
    {
     "name": "stdout",
     "output_type": "stream",
     "text": [
      "Extracting EDF parameters from /mnt/e/Documents/projects/seizure-prediction/data/chb-mit-scalp-eeg-database-1.0.0/chb01/chb01_16.edf...\n",
      "EDF file detected\n",
      "Setting channel info structure...\n",
      "Creating raw.info structure...\n"
     ]
    },
    {
     "name": "stderr",
     "output_type": "stream",
     "text": [
      "/home/mnsosa/projects/SeizurePrediction/src/sz_utils/data_handler.py:75: RuntimeWarning: Channel names are not unique, found duplicates for: {'T8-P8'}. Applying running numbers for duplicates.\n",
      "  mne_data = mne.io.read_raw_edf(edf_path)\n"
     ]
    },
    {
     "name": "stdout",
     "output_type": "stream",
     "text": [
      "Extracting EDF parameters from /mnt/e/Documents/projects/seizure-prediction/data/chb-mit-scalp-eeg-database-1.0.0/chb01/chb01_18.edf...\n",
      "EDF file detected\n",
      "Setting channel info structure...\n",
      "Creating raw.info structure...\n"
     ]
    },
    {
     "name": "stderr",
     "output_type": "stream",
     "text": [
      "/home/mnsosa/projects/SeizurePrediction/src/sz_utils/data_handler.py:75: RuntimeWarning: Channel names are not unique, found duplicates for: {'T8-P8'}. Applying running numbers for duplicates.\n",
      "  mne_data = mne.io.read_raw_edf(edf_path)\n"
     ]
    },
    {
     "name": "stdout",
     "output_type": "stream",
     "text": [
      "Extracting EDF parameters from /mnt/e/Documents/projects/seizure-prediction/data/chb-mit-scalp-eeg-database-1.0.0/chb01/chb01_21.edf...\n",
      "EDF file detected\n",
      "Setting channel info structure...\n",
      "Creating raw.info structure...\n"
     ]
    },
    {
     "name": "stderr",
     "output_type": "stream",
     "text": [
      "/home/mnsosa/projects/SeizurePrediction/src/sz_utils/data_handler.py:75: RuntimeWarning: Channel names are not unique, found duplicates for: {'T8-P8'}. Applying running numbers for duplicates.\n",
      "  mne_data = mne.io.read_raw_edf(edf_path)\n"
     ]
    },
    {
     "name": "stdout",
     "output_type": "stream",
     "text": [
      "Extracting EDF parameters from /mnt/e/Documents/projects/seizure-prediction/data/chb-mit-scalp-eeg-database-1.0.0/chb01/chb01_26.edf...\n",
      "EDF file detected\n",
      "Setting channel info structure...\n",
      "Creating raw.info structure...\n"
     ]
    },
    {
     "name": "stderr",
     "output_type": "stream",
     "text": [
      "/home/mnsosa/projects/SeizurePrediction/src/sz_utils/data_handler.py:75: RuntimeWarning: Channel names are not unique, found duplicates for: {'T8-P8'}. Applying running numbers for duplicates.\n",
      "  mne_data = mne.io.read_raw_edf(edf_path)\n"
     ]
    }
   ],
   "source": [
    "# 7. For each seizure_times and edf_files_with_seizures, take 5 minutes (256*60*5) before the seizure\n",
    "# from the edf data\n",
    "seizure_samples = []\n",
    "\n",
    "for edf_file, seizure_time in zip(edf_files_with_seizures, seizure_times):\n",
    "    edf_data = data_handler.get_edf_data(patients[0], edf_file)\n",
    "    first_seizure_time = seizure_time[0][0] # seizure_time is a list[tuple[int, int]]\n",
    "    first_seizure_time *= 256 # 256 Hz\n",
    "    seizure_samples.append(edf_data[first_seizure_time - 256*60*5:first_seizure_time])"
   ]
  },
  {
   "cell_type": "code",
   "execution_count": 34,
   "metadata": {},
   "outputs": [
    {
     "data": {
      "text/plain": [
       "(7, (76800, 24))"
      ]
     },
     "execution_count": 34,
     "metadata": {},
     "output_type": "execute_result"
    }
   ],
   "source": [
    "# shape of seizure_samples\n",
    "len(seizure_samples), seizure_samples[0].shape"
   ]
  },
  {
   "cell_type": "code",
   "execution_count": 35,
   "metadata": {},
   "outputs": [
    {
     "data": {
      "text/plain": [
       "(7, 60, (1280, 24))"
      ]
     },
     "execution_count": 35,
     "metadata": {},
     "output_type": "execute_result"
    }
   ],
   "source": [
    "# 8. Split data into 5 second windows\n",
    "import numpy as np\n",
    "\n",
    "seizure_windows = []\n",
    "for seizure_sample in seizure_samples:\n",
    "    num_samples = seizure_sample.shape[0]\n",
    "    samples_per_window = 256*5 # 256 Hz * 5 seconds\n",
    "    seizure_windows.append(np.array_split(seizure_sample, num_samples // samples_per_window))\n",
    "\n",
    "# shape of seizure_windows\n",
    "len(seizure_windows), len(seizure_windows[0]), seizure_windows[0][0].shape"
   ]
  },
  {
   "attachments": {},
   "cell_type": "markdown",
   "metadata": {},
   "source": [
    "## 2. Take the equal amount of samples from 5 minutes in a non seizure edf file."
   ]
  },
  {
   "cell_type": "code",
   "execution_count": 36,
   "metadata": {},
   "outputs": [
    {
     "data": {
      "text/plain": [
       "array(['chb01_01.edf', 'chb01_02.edf', 'chb01_05.edf', 'chb01_06.edf',\n",
       "       'chb01_07.edf', 'chb01_08.edf', 'chb01_09.edf', 'chb01_10.edf',\n",
       "       'chb01_11.edf', 'chb01_12.edf', 'chb01_13.edf', 'chb01_14.edf',\n",
       "       'chb01_17.edf', 'chb01_19.edf', 'chb01_20.edf', 'chb01_22.edf',\n",
       "       'chb01_23.edf', 'chb01_24.edf', 'chb01_25.edf', 'chb01_27.edf',\n",
       "       'chb01_29.edf', 'chb01_30.edf', 'chb01_31.edf', 'chb01_32.edf',\n",
       "       'chb01_33.edf', 'chb01_34.edf', 'chb01_36.edf', 'chb01_37.edf',\n",
       "       'chb01_38.edf', 'chb01_39.edf', 'chb01_40.edf', 'chb01_41.edf',\n",
       "       'chb01_42.edf', 'chb01_43.edf', 'chb01_46.edf'], dtype=object)"
      ]
     },
     "execution_count": 36,
     "metadata": {},
     "output_type": "execute_result"
    }
   ],
   "source": [
    "# 9. No seizure samples\n",
    "# Get the edf_files_names without seizures\n",
    "edf_files_without_seizures = seizures_without[\"file_name\"].values\n",
    "edf_files_without_seizures"
   ]
  },
  {
   "cell_type": "code",
   "execution_count": 37,
   "metadata": {},
   "outputs": [
    {
     "data": {
      "text/plain": [
       "['chb01_10.edf',\n",
       " 'chb01_02.edf',\n",
       " 'chb01_24.edf',\n",
       " 'chb01_22.edf',\n",
       " 'chb01_46.edf',\n",
       " 'chb01_07.edf',\n",
       " 'chb01_32.edf']"
      ]
     },
     "execution_count": 37,
     "metadata": {},
     "output_type": "execute_result"
    }
   ],
   "source": [
    "# 10. Randomly 7 edf files without seizures\n",
    "import random\n",
    "\n",
    "random.seed(42)\n",
    "edf_files_without_seizures = random.sample(list(edf_files_without_seizures), 7)\n",
    "edf_files_without_seizures"
   ]
  },
  {
   "cell_type": "code",
   "execution_count": 38,
   "metadata": {},
   "outputs": [
    {
     "name": "stdout",
     "output_type": "stream",
     "text": [
      "Extracting EDF parameters from /mnt/e/Documents/projects/seizure-prediction/data/chb-mit-scalp-eeg-database-1.0.0/chb01/chb01_10.edf...\n",
      "EDF file detected\n",
      "Setting channel info structure...\n",
      "Creating raw.info structure...\n"
     ]
    },
    {
     "name": "stderr",
     "output_type": "stream",
     "text": [
      "/home/mnsosa/projects/SeizurePrediction/src/sz_utils/data_handler.py:75: RuntimeWarning: Channel names are not unique, found duplicates for: {'T8-P8'}. Applying running numbers for duplicates.\n",
      "  mne_data = mne.io.read_raw_edf(edf_path)\n"
     ]
    },
    {
     "name": "stdout",
     "output_type": "stream",
     "text": [
      "Extracting EDF parameters from /mnt/e/Documents/projects/seizure-prediction/data/chb-mit-scalp-eeg-database-1.0.0/chb01/chb01_02.edf...\n",
      "EDF file detected\n",
      "Setting channel info structure...\n",
      "Creating raw.info structure...\n"
     ]
    },
    {
     "name": "stderr",
     "output_type": "stream",
     "text": [
      "/home/mnsosa/projects/SeizurePrediction/src/sz_utils/data_handler.py:75: RuntimeWarning: Channel names are not unique, found duplicates for: {'T8-P8'}. Applying running numbers for duplicates.\n",
      "  mne_data = mne.io.read_raw_edf(edf_path)\n"
     ]
    },
    {
     "name": "stdout",
     "output_type": "stream",
     "text": [
      "Extracting EDF parameters from /mnt/e/Documents/projects/seizure-prediction/data/chb-mit-scalp-eeg-database-1.0.0/chb01/chb01_24.edf...\n",
      "EDF file detected\n",
      "Setting channel info structure...\n",
      "Creating raw.info structure...\n"
     ]
    },
    {
     "name": "stderr",
     "output_type": "stream",
     "text": [
      "/home/mnsosa/projects/SeizurePrediction/src/sz_utils/data_handler.py:75: RuntimeWarning: Channel names are not unique, found duplicates for: {'T8-P8'}. Applying running numbers for duplicates.\n",
      "  mne_data = mne.io.read_raw_edf(edf_path)\n"
     ]
    },
    {
     "name": "stdout",
     "output_type": "stream",
     "text": [
      "Extracting EDF parameters from /mnt/e/Documents/projects/seizure-prediction/data/chb-mit-scalp-eeg-database-1.0.0/chb01/chb01_22.edf...\n",
      "EDF file detected\n",
      "Setting channel info structure...\n",
      "Creating raw.info structure...\n"
     ]
    },
    {
     "name": "stderr",
     "output_type": "stream",
     "text": [
      "/home/mnsosa/projects/SeizurePrediction/src/sz_utils/data_handler.py:75: RuntimeWarning: Channel names are not unique, found duplicates for: {'T8-P8'}. Applying running numbers for duplicates.\n",
      "  mne_data = mne.io.read_raw_edf(edf_path)\n"
     ]
    },
    {
     "name": "stdout",
     "output_type": "stream",
     "text": [
      "Extracting EDF parameters from /mnt/e/Documents/projects/seizure-prediction/data/chb-mit-scalp-eeg-database-1.0.0/chb01/chb01_46.edf...\n",
      "EDF file detected\n",
      "Setting channel info structure...\n",
      "Creating raw.info structure...\n"
     ]
    },
    {
     "name": "stderr",
     "output_type": "stream",
     "text": [
      "/home/mnsosa/projects/SeizurePrediction/src/sz_utils/data_handler.py:75: RuntimeWarning: Channel names are not unique, found duplicates for: {'T8-P8'}. Applying running numbers for duplicates.\n",
      "  mne_data = mne.io.read_raw_edf(edf_path)\n"
     ]
    },
    {
     "name": "stdout",
     "output_type": "stream",
     "text": [
      "Extracting EDF parameters from /mnt/e/Documents/projects/seizure-prediction/data/chb-mit-scalp-eeg-database-1.0.0/chb01/chb01_07.edf...\n",
      "EDF file detected\n",
      "Setting channel info structure...\n",
      "Creating raw.info structure...\n"
     ]
    },
    {
     "name": "stderr",
     "output_type": "stream",
     "text": [
      "/home/mnsosa/projects/SeizurePrediction/src/sz_utils/data_handler.py:75: RuntimeWarning: Channel names are not unique, found duplicates for: {'T8-P8'}. Applying running numbers for duplicates.\n",
      "  mne_data = mne.io.read_raw_edf(edf_path)\n"
     ]
    },
    {
     "name": "stdout",
     "output_type": "stream",
     "text": [
      "Extracting EDF parameters from /mnt/e/Documents/projects/seizure-prediction/data/chb-mit-scalp-eeg-database-1.0.0/chb01/chb01_32.edf...\n",
      "EDF file detected\n",
      "Setting channel info structure...\n",
      "Creating raw.info structure...\n"
     ]
    },
    {
     "name": "stderr",
     "output_type": "stream",
     "text": [
      "/home/mnsosa/projects/SeizurePrediction/src/sz_utils/data_handler.py:75: RuntimeWarning: Channel names are not unique, found duplicates for: {'T8-P8'}. Applying running numbers for duplicates.\n",
      "  mne_data = mne.io.read_raw_edf(edf_path)\n"
     ]
    }
   ],
   "source": [
    "# 11. For each edf_files_without_seizures, take 5 minutes (256*60*5) before the seizure\n",
    "# from the edf data\n",
    "no_seizure_samples = []\n",
    "\n",
    "for edf_file in edf_files_without_seizures:\n",
    "    edf_data = data_handler.get_edf_data(patients[0], edf_file)\n",
    "    middle_time = edf_data.shape[0] // 2\n",
    "    no_seizure_samples.append(edf_data[middle_time - 256*60*5:middle_time])"
   ]
  },
  {
   "cell_type": "code",
   "execution_count": 39,
   "metadata": {},
   "outputs": [
    {
     "data": {
      "text/plain": [
       "(7, 60, (1280, 24))"
      ]
     },
     "execution_count": 39,
     "metadata": {},
     "output_type": "execute_result"
    }
   ],
   "source": [
    "# 12. Split data into 5 second windows\n",
    "no_seizure_windows = []\n",
    "for no_seizure_sample in no_seizure_samples:\n",
    "    num_samples = no_seizure_sample.shape[0]\n",
    "    samples_per_window = 256*5 # 256 Hz * 5 seconds\n",
    "    no_seizure_windows.append(np.array_split(no_seizure_sample, num_samples // samples_per_window))\n",
    "\n",
    "# shape of no_seizure_windows\n",
    "len(no_seizure_windows), len(no_seizure_windows[0]), no_seizure_windows[0][0].shape"
   ]
  },
  {
   "attachments": {},
   "cell_type": "markdown",
   "metadata": {},
   "source": [
    "## 3. Chunk the data"
   ]
  },
  {
   "cell_type": "code",
   "execution_count": 40,
   "metadata": {},
   "outputs": [
    {
     "data": {
      "text/plain": [
       "(420, 1280, 24)"
      ]
     },
     "execution_count": 40,
     "metadata": {},
     "output_type": "execute_result"
    }
   ],
   "source": [
    "# 13. From (n, a, (b, c)) to (n*a, b, c)\n",
    "seizure_windows = np.array(seizure_windows)\n",
    "seizure_windows = np.concatenate(seizure_windows, axis=0)\n",
    "seizure_windows.shape"
   ]
  },
  {
   "cell_type": "code",
   "execution_count": 41,
   "metadata": {},
   "outputs": [
    {
     "data": {
      "text/plain": [
       "(420, 1280, 24)"
      ]
     },
     "execution_count": 41,
     "metadata": {},
     "output_type": "execute_result"
    }
   ],
   "source": [
    "# 14. Same for no_seizure_windows\n",
    "no_seizure_windows = np.array(no_seizure_windows)\n",
    "no_seizure_windows = np.concatenate(no_seizure_windows, axis=0)\n",
    "no_seizure_windows.shape"
   ]
  },
  {
   "attachments": {},
   "cell_type": "markdown",
   "metadata": {},
   "source": [
    "# Make function"
   ]
  },
  {
   "cell_type": "code",
   "execution_count": 12,
   "metadata": {},
   "outputs": [],
   "source": [
    "import numpy as np\n",
    "\n",
    "import random\n",
    "from typing import Tuple\n",
    "from sz_utils import data_handler\n",
    "from ast import literal_eval\n",
    "\n",
    "\n",
    "# make function\n",
    "def get_patient_windows(patient) -> Tuple[np.ndarray, np.ndarray]:\n",
    "    \"\"\"Get preictal and not preictal samples.\n",
    "\n",
    "    :param patient: patient id name (eg. chb01)\n",
    "    :type patient: str\n",
    "    :return: preictal and not preictal samples\n",
    "    :rtype: Tuple[np.ndarray, np.ndarray]\n",
    "    \"\"\"\n",
    "    features = ['FP1-F7', 'F7-T7', 'T7-P7', 'P7-O1', 'FP1-F3', 'F3-C3', 'C3-P3', 'P3-O1', \n",
    "            'FP2-F4', 'F4-C4', 'C4-P4', 'P4-O2', 'FP2-F8', 'F8-T8', 'T8-P8-0', 'P8-O2', \n",
    "            'FZ-CZ', 'CZ-PZ', 'P7-T7', 'T7-FT9', 'FT9-FT10', 'FT10-T8']\n",
    "\n",
    "    # 1. Get edf files for patient\n",
    "    edf_files = data_handler.get_patient_edf(patient)\n",
    "    # 2. Get info about seizures\n",
    "    seizures = data_handler.get_seizure_data(patient)\n",
    "    # 3. Split into the one with and without seizures\n",
    "    seizures_with = seizures[seizures[\"number_of_seizures\"] > 0]\n",
    "    seizures_without = seizures[seizures[\"number_of_seizures\"] == 0]\n",
    "    # 4. For each file with seizures, get the seizure times\n",
    "    seizure_times = []\n",
    "    for edf_file in seizures_with[\"file_name\"]:\n",
    "        seizure_times.append(\n",
    "            literal_eval(seizures_with[seizures_with[\"file_name\"] == edf_file][\"start_end_times\"].values[0])\n",
    "        )\n",
    "    # 5. Get the edf_files_names with seizures\n",
    "    edf_files_with_seizures = seizures_with[\"file_name\"].values \n",
    "    # 6. For each seizure_times and edf_files_with_seizures, take 5 minutes (256*60*5) before the seizure\n",
    "    # from the edf data\n",
    "    seizure_samples = []\n",
    "    for edf_file, seizure_time in zip(edf_files_with_seizures, seizure_times):\n",
    "        edf_data = data_handler.get_edf_data(patient, edf_file)\n",
    "        edf_data = edf_data[features]\n",
    "        first_seizure_time = seizure_time[0][0]\n",
    "        first_seizure_time *= 256\n",
    "        seizure_samples.append(edf_data[first_seizure_time - 256*60*5:first_seizure_time])\n",
    "    # 7. Split data into 5 second windows\n",
    "    seizure_windows = []\n",
    "    for seizure_sample in seizure_samples:\n",
    "        num_samples = seizure_sample.shape[0]\n",
    "        samples_per_window = 256*5\n",
    "        seizure_windows.append(np.array_split(seizure_sample, num_samples // samples_per_window))\n",
    "    # 8. No seizure samples\n",
    "    # Get the edf_files_names without seizures\n",
    "    edf_files_without_seizures = seizures_without[\"file_name\"].values\n",
    "    # 9. Randomly 7 edf files without seizures\n",
    "    random.seed(42)\n",
    "    edf_files_without_seizures = random.sample(list(edf_files_without_seizures), len(seizure_samples))\n",
    "    # 10. For each edf_files_without_seizures, take 5 minutes (256*60*5) before the seizure\n",
    "    # from the edf data\n",
    "    no_seizure_samples = []\n",
    "    for edf_file in edf_files_without_seizures:\n",
    "        edf_data = data_handler.get_edf_data(patient, edf_file)\n",
    "        edf_data = edf_data[features]\n",
    "        middle_time = edf_data.shape[0] // 2\n",
    "        no_seizure_samples.append(edf_data[middle_time - 256*60*5:middle_time])\n",
    "    # 11. Split data into 5 second windows\n",
    "    no_seizure_windows = []\n",
    "    for no_seizure_sample in no_seizure_samples:\n",
    "        num_samples = no_seizure_sample.shape[0]\n",
    "        samples_per_window = 256*5\n",
    "        no_seizure_windows.append(np.array_split(no_seizure_sample, num_samples // samples_per_window))\n",
    "    # 12. From (n, a, (b, c)) to (n*a, b, c)\n",
    "    seizure_windows = np.array(seizure_windows)\n",
    "    seizure_windows = np.concatenate(seizure_windows, axis=0)\n",
    "    # 13. Same for no_seizure_windows\n",
    "    no_seizure_windows = np.array(no_seizure_windows)\n",
    "    no_seizure_windows = np.concatenate(no_seizure_windows, axis=0)\n",
    "    return seizure_windows, no_seizure_windows"
   ]
  },
  {
   "cell_type": "code",
   "execution_count": 13,
   "metadata": {},
   "outputs": [
    {
     "name": "stdout",
     "output_type": "stream",
     "text": [
      "Extracting EDF parameters from /mnt/e/Documents/projects/seizure-prediction/data/chb-mit-scalp-eeg-database-1.0.0/chb01/chb01_03.edf...\n",
      "EDF file detected\n",
      "Setting channel info structure...\n",
      "Creating raw.info structure...\n"
     ]
    },
    {
     "name": "stderr",
     "output_type": "stream",
     "text": [
      "/home/mnsosa/projects/SeizurePrediction/src/sz_utils/data_handler.py:75: RuntimeWarning: Channel names are not unique, found duplicates for: {'T8-P8'}. Applying running numbers for duplicates.\n",
      "  mne_data = mne.io.read_raw_edf(edf_path)\n"
     ]
    },
    {
     "name": "stdout",
     "output_type": "stream",
     "text": [
      "Extracting EDF parameters from /mnt/e/Documents/projects/seizure-prediction/data/chb-mit-scalp-eeg-database-1.0.0/chb01/chb01_04.edf...\n",
      "EDF file detected\n",
      "Setting channel info structure...\n",
      "Creating raw.info structure...\n"
     ]
    },
    {
     "name": "stderr",
     "output_type": "stream",
     "text": [
      "/home/mnsosa/projects/SeizurePrediction/src/sz_utils/data_handler.py:75: RuntimeWarning: Channel names are not unique, found duplicates for: {'T8-P8'}. Applying running numbers for duplicates.\n",
      "  mne_data = mne.io.read_raw_edf(edf_path)\n"
     ]
    },
    {
     "name": "stdout",
     "output_type": "stream",
     "text": [
      "Extracting EDF parameters from /mnt/e/Documents/projects/seizure-prediction/data/chb-mit-scalp-eeg-database-1.0.0/chb01/chb01_15.edf...\n",
      "EDF file detected\n",
      "Setting channel info structure...\n",
      "Creating raw.info structure...\n"
     ]
    },
    {
     "name": "stderr",
     "output_type": "stream",
     "text": [
      "/home/mnsosa/projects/SeizurePrediction/src/sz_utils/data_handler.py:75: RuntimeWarning: Channel names are not unique, found duplicates for: {'T8-P8'}. Applying running numbers for duplicates.\n",
      "  mne_data = mne.io.read_raw_edf(edf_path)\n"
     ]
    },
    {
     "name": "stdout",
     "output_type": "stream",
     "text": [
      "Extracting EDF parameters from /mnt/e/Documents/projects/seizure-prediction/data/chb-mit-scalp-eeg-database-1.0.0/chb01/chb01_16.edf...\n",
      "EDF file detected\n",
      "Setting channel info structure...\n",
      "Creating raw.info structure...\n"
     ]
    },
    {
     "name": "stderr",
     "output_type": "stream",
     "text": [
      "/home/mnsosa/projects/SeizurePrediction/src/sz_utils/data_handler.py:75: RuntimeWarning: Channel names are not unique, found duplicates for: {'T8-P8'}. Applying running numbers for duplicates.\n",
      "  mne_data = mne.io.read_raw_edf(edf_path)\n"
     ]
    },
    {
     "name": "stdout",
     "output_type": "stream",
     "text": [
      "Extracting EDF parameters from /mnt/e/Documents/projects/seizure-prediction/data/chb-mit-scalp-eeg-database-1.0.0/chb01/chb01_18.edf...\n",
      "EDF file detected\n",
      "Setting channel info structure...\n",
      "Creating raw.info structure...\n"
     ]
    },
    {
     "name": "stderr",
     "output_type": "stream",
     "text": [
      "/home/mnsosa/projects/SeizurePrediction/src/sz_utils/data_handler.py:75: RuntimeWarning: Channel names are not unique, found duplicates for: {'T8-P8'}. Applying running numbers for duplicates.\n",
      "  mne_data = mne.io.read_raw_edf(edf_path)\n"
     ]
    },
    {
     "name": "stdout",
     "output_type": "stream",
     "text": [
      "Extracting EDF parameters from /mnt/e/Documents/projects/seizure-prediction/data/chb-mit-scalp-eeg-database-1.0.0/chb01/chb01_21.edf...\n",
      "EDF file detected\n",
      "Setting channel info structure...\n",
      "Creating raw.info structure...\n"
     ]
    },
    {
     "name": "stderr",
     "output_type": "stream",
     "text": [
      "/home/mnsosa/projects/SeizurePrediction/src/sz_utils/data_handler.py:75: RuntimeWarning: Channel names are not unique, found duplicates for: {'T8-P8'}. Applying running numbers for duplicates.\n",
      "  mne_data = mne.io.read_raw_edf(edf_path)\n"
     ]
    },
    {
     "name": "stdout",
     "output_type": "stream",
     "text": [
      "Extracting EDF parameters from /mnt/e/Documents/projects/seizure-prediction/data/chb-mit-scalp-eeg-database-1.0.0/chb01/chb01_26.edf...\n",
      "EDF file detected\n",
      "Setting channel info structure...\n",
      "Creating raw.info structure...\n"
     ]
    },
    {
     "name": "stderr",
     "output_type": "stream",
     "text": [
      "/home/mnsosa/projects/SeizurePrediction/src/sz_utils/data_handler.py:75: RuntimeWarning: Channel names are not unique, found duplicates for: {'T8-P8'}. Applying running numbers for duplicates.\n",
      "  mne_data = mne.io.read_raw_edf(edf_path)\n"
     ]
    },
    {
     "name": "stdout",
     "output_type": "stream",
     "text": [
      "Extracting EDF parameters from /mnt/e/Documents/projects/seizure-prediction/data/chb-mit-scalp-eeg-database-1.0.0/chb01/chb01_10.edf...\n",
      "EDF file detected\n",
      "Setting channel info structure...\n",
      "Creating raw.info structure...\n"
     ]
    },
    {
     "name": "stderr",
     "output_type": "stream",
     "text": [
      "/home/mnsosa/projects/SeizurePrediction/src/sz_utils/data_handler.py:75: RuntimeWarning: Channel names are not unique, found duplicates for: {'T8-P8'}. Applying running numbers for duplicates.\n",
      "  mne_data = mne.io.read_raw_edf(edf_path)\n"
     ]
    },
    {
     "name": "stdout",
     "output_type": "stream",
     "text": [
      "Extracting EDF parameters from /mnt/e/Documents/projects/seizure-prediction/data/chb-mit-scalp-eeg-database-1.0.0/chb01/chb01_02.edf...\n",
      "EDF file detected\n",
      "Setting channel info structure...\n",
      "Creating raw.info structure...\n"
     ]
    },
    {
     "name": "stderr",
     "output_type": "stream",
     "text": [
      "/home/mnsosa/projects/SeizurePrediction/src/sz_utils/data_handler.py:75: RuntimeWarning: Channel names are not unique, found duplicates for: {'T8-P8'}. Applying running numbers for duplicates.\n",
      "  mne_data = mne.io.read_raw_edf(edf_path)\n"
     ]
    },
    {
     "name": "stdout",
     "output_type": "stream",
     "text": [
      "Extracting EDF parameters from /mnt/e/Documents/projects/seizure-prediction/data/chb-mit-scalp-eeg-database-1.0.0/chb01/chb01_24.edf...\n",
      "EDF file detected\n",
      "Setting channel info structure...\n",
      "Creating raw.info structure...\n"
     ]
    },
    {
     "name": "stderr",
     "output_type": "stream",
     "text": [
      "/home/mnsosa/projects/SeizurePrediction/src/sz_utils/data_handler.py:75: RuntimeWarning: Channel names are not unique, found duplicates for: {'T8-P8'}. Applying running numbers for duplicates.\n",
      "  mne_data = mne.io.read_raw_edf(edf_path)\n"
     ]
    },
    {
     "name": "stdout",
     "output_type": "stream",
     "text": [
      "Extracting EDF parameters from /mnt/e/Documents/projects/seizure-prediction/data/chb-mit-scalp-eeg-database-1.0.0/chb01/chb01_22.edf...\n",
      "EDF file detected\n",
      "Setting channel info structure...\n",
      "Creating raw.info structure...\n"
     ]
    },
    {
     "name": "stderr",
     "output_type": "stream",
     "text": [
      "/home/mnsosa/projects/SeizurePrediction/src/sz_utils/data_handler.py:75: RuntimeWarning: Channel names are not unique, found duplicates for: {'T8-P8'}. Applying running numbers for duplicates.\n",
      "  mne_data = mne.io.read_raw_edf(edf_path)\n"
     ]
    },
    {
     "name": "stdout",
     "output_type": "stream",
     "text": [
      "Extracting EDF parameters from /mnt/e/Documents/projects/seizure-prediction/data/chb-mit-scalp-eeg-database-1.0.0/chb01/chb01_46.edf...\n",
      "EDF file detected\n",
      "Setting channel info structure...\n",
      "Creating raw.info structure...\n"
     ]
    },
    {
     "name": "stderr",
     "output_type": "stream",
     "text": [
      "/home/mnsosa/projects/SeizurePrediction/src/sz_utils/data_handler.py:75: RuntimeWarning: Channel names are not unique, found duplicates for: {'T8-P8'}. Applying running numbers for duplicates.\n",
      "  mne_data = mne.io.read_raw_edf(edf_path)\n"
     ]
    },
    {
     "name": "stdout",
     "output_type": "stream",
     "text": [
      "Extracting EDF parameters from /mnt/e/Documents/projects/seizure-prediction/data/chb-mit-scalp-eeg-database-1.0.0/chb01/chb01_07.edf...\n",
      "EDF file detected\n",
      "Setting channel info structure...\n",
      "Creating raw.info structure...\n"
     ]
    },
    {
     "name": "stderr",
     "output_type": "stream",
     "text": [
      "/home/mnsosa/projects/SeizurePrediction/src/sz_utils/data_handler.py:75: RuntimeWarning: Channel names are not unique, found duplicates for: {'T8-P8'}. Applying running numbers for duplicates.\n",
      "  mne_data = mne.io.read_raw_edf(edf_path)\n"
     ]
    },
    {
     "name": "stdout",
     "output_type": "stream",
     "text": [
      "Extracting EDF parameters from /mnt/e/Documents/projects/seizure-prediction/data/chb-mit-scalp-eeg-database-1.0.0/chb01/chb01_32.edf...\n",
      "EDF file detected\n",
      "Setting channel info structure...\n",
      "Creating raw.info structure...\n"
     ]
    },
    {
     "name": "stderr",
     "output_type": "stream",
     "text": [
      "/home/mnsosa/projects/SeizurePrediction/src/sz_utils/data_handler.py:75: RuntimeWarning: Channel names are not unique, found duplicates for: {'T8-P8'}. Applying running numbers for duplicates.\n",
      "  mne_data = mne.io.read_raw_edf(edf_path)\n"
     ]
    }
   ],
   "source": [
    "s, ns = get_patient_windows(\"chb01\")"
   ]
  },
  {
   "cell_type": "code",
   "execution_count": 14,
   "metadata": {},
   "outputs": [
    {
     "data": {
      "text/plain": [
       "((420, 1280, 22), (420, 1280, 22))"
      ]
     },
     "execution_count": 14,
     "metadata": {},
     "output_type": "execute_result"
    }
   ],
   "source": [
    "s.shape, ns.shape"
   ]
  }
 ],
 "metadata": {
  "kernelspec": {
   "display_name": "seiz_pred",
   "language": "python",
   "name": "python3"
  },
  "language_info": {
   "codemirror_mode": {
    "name": "ipython",
    "version": 3
   },
   "file_extension": ".py",
   "mimetype": "text/x-python",
   "name": "python",
   "nbconvert_exporter": "python",
   "pygments_lexer": "ipython3",
   "version": "3.10.0"
  },
  "orig_nbformat": 4
 },
 "nbformat": 4,
 "nbformat_minor": 2
}
