{
 "cells": [
  {
   "cell_type": "code",
   "execution_count": 3,
   "metadata": {},
   "outputs": [],
   "source": [
    "%%capture\n",
    "\n",
    "from sz_utils import data_handler\n",
    "import matplotlib.pyplot as plt\n",
    "import numpy as np\n",
    "import pandas as pd\n",
    "# check if gpu is available\n",
    "import tensorflow as tf\n",
    "tf.config.list_physical_devices('GPU')\n",
    "\n",
    "# collect the data\n",
    "preictal, interictal = data_handler.make_patient_windows(\"chb01\")\n",
    "\n",
    "# make the labels\n",
    "X = np.concatenate((preictal, interictal), axis=0)\n",
    "y = np.concatenate((np.ones((preictal.shape[0], 1)), np.zeros((interictal.shape[0], 1))), axis=0)\n",
    "\n",
    "# Shuffle the data\n",
    "shuffle_indices = np.random.permutation(np.arange(X.shape[0]))\n",
    "X = X[shuffle_indices]\n",
    "y = y[shuffle_indices]\n",
    "\n",
    "# Split the data into train and test\n",
    "train_size = int(X.shape[0] * 0.8)\n",
    "X_train = X[:train_size]\n",
    "y_train = y[:train_size]\n",
    "X_test = X[train_size:]\n",
    "y_test = y[train_size:]\n",
    "\n",
    "# Split test data into validation and test\n",
    "val_size = int(X_test.shape[0] * 0.5)\n",
    "X_val = X_test[:val_size]\n",
    "y_val = y_test[:val_size]\n",
    "X_test = X_test[val_size:]\n",
    "y_test = y_test[val_size:]"
   ]
  },
  {
   "cell_type": "code",
   "execution_count": 4,
   "metadata": {},
   "outputs": [],
   "source": [
    "import numpy as np\n",
    "import mlflow.tensorflow\n",
    "import tensorflow as tf\n",
    "import matplotlib.pyplot as plt\n",
    "import seaborn as sns\n",
    "import mlflow\n",
    "\n",
    "from tensorflow.keras.models import Sequential\n",
    "from tensorflow.keras.layers import Dense, Dropout, Flatten, Conv2D, MaxPooling2D,LSTM, Conv1D, Activation, MaxPooling1D\n",
    "from tensorflow.keras.optimizers import Adam\n",
    "from sklearn.metrics import confusion_matrix\n",
    "from tensorflow.keras.metrics import AUC\n",
    "import keras"
   ]
  },
  {
   "cell_type": "code",
   "execution_count": 5,
   "metadata": {},
   "outputs": [
    {
     "name": "stdout",
     "output_type": "stream",
     "text": [
      "X_train shape: (672, 1280, 22) y_train shape: (672, 1) X_val shape: (84, 1280, 22) y_val shape: (84, 1) X_test shape: (84, 1280, 22) y_test shape: (84, 1)\n"
     ]
    }
   ],
   "source": [
    "# shapes\n",
    "print(\"X_train shape:\", X_train.shape, \"y_train shape:\", y_train.shape, \"X_val shape:\", X_val.shape, \"y_val shape:\", y_val.shape, \"X_test shape:\", X_test.shape, \"y_test shape:\", y_test.shape)"
   ]
  },
  {
   "cell_type": "code",
   "execution_count": 8,
   "metadata": {},
   "outputs": [
    {
     "data": {
      "text/plain": [
       "(1280, 22)"
      ]
     },
     "execution_count": 8,
     "metadata": {},
     "output_type": "execute_result"
    }
   ],
   "source": [
    "num_classes = 2 \n",
    "input_shape_dataset = (X_train.shape[1], X_train.shape[2])\n",
    "input_shape_dataset"
   ]
  },
  {
   "cell_type": "code",
   "execution_count": 28,
   "metadata": {},
   "outputs": [],
   "source": [
    "def create_model_cnn_basic_1_layer(\n",
    "    input_shape_dataset: tuple = input_shape_dataset,\n",
    "    num_classes: int = num_classes,\n",
    "    debug: bool = False,\n",
    "    filters: int = 256,\n",
    "    kernel_size: int = 3,\n",
    "    pool_size: int = 2,\n",
    "    dropout: float = 0.1,\n",
    "    dense_size: int = 64,\n",
    "\n",
    ") -> tf.keras.Model:\n",
    "\n",
    "    \"\"\"This function creates a basic convolutional neural network model with 2 convolutional layers, 2 dense layers and a softmax layer\n",
    "\n",
    "    :param input_shape_dataset: shape of the input data\n",
    "    :type input_shape_dataset: tuple\n",
    "    :param num_classes: number of classes\n",
    "    :type num_classes: int\n",
    "    :return: return a model\n",
    "    :rtype: tf.keras.Model\n",
    "    \"\"\"\n",
    "\n",
    "    if debug:\n",
    "        print(\"------------model summary---------------\")\n",
    "        print(\"input_shape_dataset\", input_shape_dataset)\n",
    "        print(\"num_classes\", num_classes)\n",
    "\n",
    "    input_shape_dataset: tuple\n",
    "    \n",
    "    model = Sequential()\n",
    "\n",
    "    model.add(Conv1D(filters, kernel_size, input_shape=(input_shape_dataset)))\n",
    "    model.add(Activation('relu'))\n",
    "    model.add(MaxPooling1D(pool_size=pool_size))\n",
    "    model.add(Flatten())\n",
    "    model.add(Dense(dense_size))\n",
    "    model.add(Dropout(dropout))\n",
    "\n",
    "    model.add(Dense(1))\n",
    "    model.add(Activation('sigmoid'))\n",
    "\n",
    "    return model"
   ]
  },
  {
   "cell_type": "code",
   "execution_count": 45,
   "metadata": {},
   "outputs": [],
   "source": [
    "# si quiero serializar experimentos en mlflow pero se que algunos pueden fallar me gustaria agregar al scrip un try exceplt por si el modelo no puede compilarse o fitearse y que la causa del error se almacene. y tambien se almacene en mlflow siendo este el codigo q\n",
    "def run_experiment_cnn(\n",
    "    input_shape: tuple,\n",
    "    X_train: np.ndarray,\n",
    "    y_train: np.ndarray,\n",
    "    X_val: np.ndarray,\n",
    "    y_val: np.ndarray,\n",
    "    X_test: np.ndarray,\n",
    "    y_test: np.ndarray,\n",
    "    experiment_name: str = \"Default CNN\",\n",
    "    num_classes = 2,\n",
    "    input_shape_dataset = (X_train.shape[1], X_train.shape[2]),\n",
    "    epochs: int = 10,\n",
    "    # batch_size=32, # better results without batch size\n",
    "    debug: bool = False,\n",
    "   **kwargs \n",
    "):\n",
    "\n",
    "\n",
    "    X_train = X_train.astype(\"float32\")\n",
    "    X_test = X_test.astype(\"float32\")\n",
    "\n",
    "    try:\n",
    "\n",
    "        with mlflow.start_run(nested=True) as run:\n",
    "\n",
    "            # set name experiment\n",
    "            mlflow.set_experiment(experiment_name)\n",
    "\n",
    "            model = create_model_cnn_basic_1_layer(input_shape_dataset= input_shape, num_classes= num_classes, **kwargs)\n",
    "\n",
    "            # mlflow.tf\n",
    "\n",
    "            # save summary of the model\n",
    "            # with open(\"model_summary.txt\", \"w\") as fh:\n",
    "            #     model.summary(print_fn=lambda line: fh.write(line + \"\\n\"))\n",
    "\n",
    "            # create the compile\n",
    "            model.compile(loss='binary_crossentropy',\n",
    "                    optimizer='adam',\n",
    "                    metrics=['accuracy'])\n",
    "\n",
    "            # fit model\n",
    "            history = model.fit(\n",
    "                X_train,\n",
    "                y_train,\n",
    "                epochs=epochs,\n",
    "                #  batch_size=batch_size,\n",
    "                validation_data=(X_val, y_val),\n",
    "                verbose=0,\n",
    "            )\n",
    "\n",
    "            # metrics mlflow\n",
    "            # mlflow.log_metric(\"train_loss\", history.history[\"loss\"][-1])\n",
    "            # mlflow.log_metric(\"train_accuracy\", history.history[\"accuracy\"][-1])\n",
    "            # mlflow.log_metric(\"val_loss\", history.history[\"val_loss\"][-1])\n",
    "            # mlflow.log_metric(\"val_accuracy\", history.history[\"val_accuracy\"][-1])\n",
    "\n",
    "            # evaluate model\n",
    "            acc_train = model.evaluate(X_train, y_train, verbose=0)[1]\n",
    "            loss_train = model.evaluate(X_train, y_train, verbose=0)[0]\n",
    "            mlflow.log_metric(\"loss\", loss_train)\n",
    "            mlflow.log_metric(\"accuracy\", acc_train)\n",
    "\n",
    "            acc = model.evaluate(X_test, y_test, verbose=0)[1]\n",
    "            loss = model.evaluate(X_test, y_test, verbose=0)[0]\n",
    "            mlflow.log_metric(\"test_loss\", loss)\n",
    "            mlflow.log_metric(\"test_accuracy\", acc)\n",
    "\n",
    "            # print(a)\n",
    "\n",
    "            # mlflow.tensorflow.log_model(model, \"model\")\n",
    "            def plot_history(history):\n",
    "                plt.figure(figsize=(10, 5))\n",
    "                plt.plot(history.history['accuracy'], label='accuracy')\n",
    "                plt.plot(history.history['val_accuracy'], label = 'val_accuracy')\n",
    "                plt.plot(history.history['loss'], label='loss')\n",
    "                plt.plot(history.history['val_loss'], label = 'val_loss')\n",
    "                plt.xlabel('Epoch')\n",
    "                plt.ylabel('Accuracy')\n",
    "                plt.ylim([0.5, 1])\n",
    "                plt.legend(loc='lower right')\n",
    "                plt.show()\n",
    "\n",
    "            plot_history(history)\n",
    "\n",
    "            plt.savefig(\n",
    "                \"Accuracy.png\", dpi=300\n",
    "            )  # no se exactamento donde lo guarda por lo que no puedo guardar en articafts\n",
    "            mlflow.log_artifact(\"Accuracy.png\")  # Esta linea no entrega falso\n",
    "\n",
    "            # make matrix confusion\n",
    "            y_pred = model.predict(X_test)\n",
    "            # print(y_pred)\n",
    "            y_pred = np.argmax(y_pred, axis=1)\n",
    "            y_test = np.argmax(y_test, axis=1)\n",
    "            cm = confusion_matrix(y_test, y_pred)\n",
    "            # print(cm)\n",
    "\n",
    "\n",
    "\n",
    "            mlflow.log_param(\"epochs\", epochs)\n",
    "\n",
    "\n",
    "\n",
    "            if debug:\n",
    "                print(\"run_id: {}\".format(run.info.run_id))\n",
    "                print(\"artifacts_uri: {}\".format(run.info.artifact_uri))\n",
    "        return history\n",
    "\n",
    "    except Exception as e:\n",
    "\n",
    "        print(f\"An error occurred: {str(e)}\")\n"
   ]
  },
  {
   "cell_type": "code",
   "execution_count": 46,
   "metadata": {},
   "outputs": [
    {
     "data": {
      "image/png": "[encoded data removed]",
      "text/plain": [
       "<Figure size 720x360 with 1 Axes>"
      ]
     },
     "metadata": {
      "needs_background": "light"
     },
     "output_type": "display_data"
    },
    {
     "name": "stdout",
     "output_type": "stream",
     "text": [
      "3/3 [==============================] - 0s 3ms/step\n",
      "run_id: b45cd8a6063041a19acca9e4b2dd9ea5\n",
      "artifacts_uri: file:///C:/Users/crist/Documents/tesis/SeizurePrediction/src/notebooks/mlruns/295688485592999226/b45cd8a6063041a19acca9e4b2dd9ea5/artifacts\n"
     ]
    },
    {
     "data": {
      "text/plain": [
       "<Figure size 432x288 with 0 Axes>"
      ]
     },
     "metadata": {},
     "output_type": "display_data"
    }
   ],
   "source": [
    "history = run_experiment_cnn(   input_shape_dataset,\n",
    "                                X_train, \n",
    "                                y_train,\n",
    "                                X_val,\n",
    "                                y_val, \n",
    "                                X_test, \n",
    "                                y_test,\n",
    "                                experiment_name = 'CNN test',\n",
    "                                # num_classes=5,\n",
    "                                input_shape_dataset = (X_train.shape[1], X_train.shape[2]),\n",
    "                                epochs=3, \n",
    "                                # batch_size=8, \n",
    "                                debug=True,\n",
    "                                filters=32,\n",
    "                                )\n",
    "\n"
   ]
  },
  {
   "cell_type": "code",
   "execution_count": 42,
   "metadata": {},
   "outputs": [
    {
     "data": {
      "text/plain": [
       "47382"
      ]
     },
     "execution_count": 42,
     "metadata": {},
     "output_type": "execute_result"
    }
   ],
   "source": [
    "import gc\n",
    "\n",
    "gc.collect()"
   ]
  },
  {
   "cell_type": "code",
   "execution_count": null,
   "metadata": {},
   "outputs": [],
   "source": [
    "test_filter = [32, 64, 128, 256, 512]\n",
    "\n",
    "for i in test_filter:\n",
    "    \n",
    "        history = run_experiment_cnn(   input_shape_dataset,\n",
    "                                        X_train, \n",
    "                                        y_train,\n",
    "                                        X_val,\n",
    "                                        y_val, \n",
    "                                        X_test, \n",
    "                                        y_test,\n",
    "                                        experiment_name = 'CNN test',\n",
    "                                        # num_classes=5,\n",
    "                                        input_shape_dataset = (X_train.shape[1], X_train.shape[2]),\n",
    "                                        epochs=3, \n",
    "                                        # batch_size=8, \n",
    "                                        debug=True,\n",
    "                                        filters=i,\n",
    "                                        )\n"
   ]
  },
  {
   "attachments": {},
   "cell_type": "markdown",
   "metadata": {},
   "source": [
    "## MLP"
   ]
  },
  {
   "cell_type": "code",
   "execution_count": 29,
   "metadata": {},
   "outputs": [],
   "source": [
    "# convert y to one-hot\n",
    "# y_train = keras.utils.to_categorical(y_train, num_classes)\n",
    "# y_val = keras.utils.to_categorical(y_val, num_classes)\n",
    "# y_test = keras.utils.to_categorical(y_test, num_classes)\n"
   ]
  },
  {
   "cell_type": "code",
   "execution_count": 38,
   "metadata": {},
   "outputs": [],
   "source": [
    "def run_experiment_mlp(\n",
    "    input_shape: tuple,\n",
    "    X_train: np.ndarray,\n",
    "    y_train: np.ndarray,\n",
    "    X_val: np.ndarray,\n",
    "    y_val: np.ndarray,\n",
    "    X_test: np.ndarray,\n",
    "    y_test: np.ndarray,\n",
    "    experiment_name: str = \"Default MLP\",\n",
    "    epochs: int = 10,\n",
    "    # batch_size=32, # better results without batch size\n",
    "    debug: bool = False,\n",
    "    \n",
    "):\n",
    "\n",
    "\n",
    "    X_train = X_train.astype(\"float32\")\n",
    "    X_test = X_test.astype(\"float32\")\n",
    "\n",
    "    with mlflow.start_run(nested=True) as run:\n",
    "\n",
    "        # set name experiment\n",
    "        mlflow.set_experiment(experiment_name)\n",
    "\n",
    "        def create_model_mlp(\n",
    "            input_shape_dataset: tuple = input_shape, num_classes: int = num_classes\n",
    "        ) -> tf.keras.Model:\n",
    "\n",
    "            \"\"\"This function creates a basic convolutional neural network model with 2 convolutional layers, 2 dense layers and a softmax layer\n",
    "\n",
    "            :param input_shape_dataset: shape of the input data\n",
    "            :type input_shape_dataset: tuple\n",
    "            :param num_classes: number of classes\n",
    "            :type num_classes: int\n",
    "            :return: return a model\n",
    "            :rtype: tf.keras.Model\n",
    "            \"\"\"\n",
    "\n",
    "            if debug:\n",
    "                print(\"------------model summary---------------\")\n",
    "                print(\"input_shape_dataset\", input_shape_dataset)\n",
    "                print(\"num_classes\", num_classes)\n",
    "\n",
    "            input_shape_dataset: tuple\n",
    "            \n",
    "            model = Sequential()\n",
    "\n",
    "            model.add(Flatten(input_shape=input_shape_dataset))\n",
    "            model.add(Dense(64, activation='relu'))\n",
    "            model.add(Dense(32, activation='relu'))\n",
    "            model.add(Dense(1, activation='sigmoid'))\n",
    "\n",
    "            return model\n",
    "\n",
    "        model = create_model_mlp()\n",
    "\n",
    "        # mlflow.tf\n",
    "\n",
    "        # save summary of the model\n",
    "        # with open(\"model_summary.txt\", \"w\") as fh:\n",
    "        #     model.summary(print_fn=lambda line: fh.write(line + \"\\n\"))\n",
    "\n",
    "        # create the compile\n",
    "        model.compile(loss='binary_crossentropy',\n",
    "                optimizer='adam',\n",
    "                metrics=['accuracy'])\n",
    "\n",
    "        # fit model\n",
    "        history = model.fit(\n",
    "            X_train,\n",
    "            y_train,\n",
    "            epochs=epochs,\n",
    "            #  batch_size=batch_size,\n",
    "            validation_data=(X_val, y_val),\n",
    "            verbose=0,\n",
    "        )\n",
    "\n",
    "        # metrics mlflow\n",
    "        # mlflow.log_metric(\"train_loss\", history.history[\"loss\"][-1])\n",
    "        # mlflow.log_metric(\"train_accuracy\", history.history[\"accuracy\"][-1])\n",
    "        # mlflow.log_metric(\"val_loss\", history.history[\"val_loss\"][-1])\n",
    "        # mlflow.log_metric(\"val_accuracy\", history.history[\"val_accuracy\"][-1])\n",
    "\n",
    "        # evaluate model\n",
    "        acc_train = model.evaluate(X_train, y_train, verbose=0)[1]\n",
    "        loss_train = model.evaluate(X_train, y_train, verbose=0)[0]\n",
    "        mlflow.log_metric(\"loss\", loss_train)\n",
    "        mlflow.log_metric(\"accuracy\", acc_train)\n",
    "\n",
    "        acc = model.evaluate(X_test, y_test, verbose=0)[1]\n",
    "        loss = model.evaluate(X_test, y_test, verbose=0)[0]\n",
    "        mlflow.log_metric(\"test_loss\", loss)\n",
    "        mlflow.log_metric(\"test_accuracy\", acc)\n",
    "\n",
    "        # mlflow.tensorflow.log_model(model, \"model\")\n",
    "        def plot_history(history):\n",
    "            plt.figure(figsize=(10, 5))\n",
    "            plt.plot(history.history['accuracy'], label='accuracy')\n",
    "            plt.plot(history.history['val_accuracy'], label = 'val_accuracy')\n",
    "            plt.plot(history.history['loss'], label='loss')\n",
    "            plt.plot(history.history['val_loss'], label = 'val_loss')\n",
    "            plt.xlabel('Epoch')\n",
    "            plt.ylabel('Accuracy')\n",
    "            plt.ylim([0.5, 1])\n",
    "            plt.legend(loc='lower right')\n",
    "            plt.show()\n",
    "\n",
    "        plot_history(history)\n",
    "\n",
    "        plt.savefig(\n",
    "            \"Accuracy.png\", dpi=300\n",
    "        )  # no se exactamento donde lo guarda por lo que no puedo guardar en articafts\n",
    "        mlflow.log_artifact(\"Accuracy.png\")  # Esta linea no entrega falso\n",
    "\n",
    "        # make matrix confusion\n",
    "        y_pred = model.predict(X_test)\n",
    "        # print(y_pred)\n",
    "        y_pred = np.argmax(y_pred, axis=1)\n",
    "        y_test = np.argmax(y_test, axis=1)\n",
    "        cm = confusion_matrix(y_test, y_pred)\n",
    "        # print(cm)\n",
    "\n",
    "\n",
    "\n",
    "        mlflow.log_param(\"epochs\", epochs)\n",
    "\n",
    "\n",
    "\n",
    "        if debug:\n",
    "            print(\"run_id: {}\".format(run.info.run_id))\n",
    "            print(\"artifacts_uri: {}\".format(run.info.artifact_uri))\n",
    "    return history"
   ]
  },
  {
   "cell_type": "code",
   "execution_count": 40,
   "metadata": {},
   "outputs": [
    {
     "name": "stdout",
     "output_type": "stream",
     "text": [
      "------------model summary---------------\n",
      "input_shape_dataset (1280, 22)\n",
      "num_classes 2\n"
     ]
    },
    {
     "data": {
      "image/png": "[encoded data removed]",
      "text/plain": [
       "<Figure size 720x360 with 1 Axes>"
      ]
     },
     "metadata": {
      "needs_background": "light"
     },
     "output_type": "display_data"
    },
    {
     "name": "stdout",
     "output_type": "stream",
     "text": [
      "3/3 [==============================] - 0s 3ms/step\n",
      "run_id: ada2bcf807c24b068843f780daeac362\n",
      "artifacts_uri: file:///C:/Users/crist/Documents/tesis/SeizurePrediction/src/notebooks/mlruns/892140226408879587/ada2bcf807c24b068843f780daeac362/artifacts\n"
     ]
    },
    {
     "data": {
      "text/plain": [
       "<Figure size 432x288 with 0 Axes>"
      ]
     },
     "metadata": {},
     "output_type": "display_data"
    }
   ],
   "source": [
    "\n",
    "history = run_experiment_mlp(                       input_shape_dataset,\n",
    "                                                    X_train,    \n",
    "                                                    y_train,\n",
    "                                                    X_val,\n",
    "                                                    y_val,\n",
    "                                                    X_test,\n",
    "                                                    y_test,\n",
    "                                                    experiment_name = 'MLP test',\n",
    "                                                    epochs=10,\n",
    "                                                    # batch_size=8,\n",
    "                                                    debug=True,\n",
    "                                                    )"
   ]
  }
 ],
 "metadata": {
  "kernelspec": {
   "display_name": "gpu_base",
   "language": "python",
   "name": "python3"
  },
  "language_info": {
   "codemirror_mode": {
    "name": "ipython",
    "version": 3
   },
   "file_extension": ".py",
   "mimetype": "text/x-python",
   "name": "python",
   "nbconvert_exporter": "python",
   "pygments_lexer": "ipython3",
   "version": "3.9.12"
  },
  "orig_nbformat": 4
 },
 "nbformat": 4,
 "nbformat_minor": 2
}
